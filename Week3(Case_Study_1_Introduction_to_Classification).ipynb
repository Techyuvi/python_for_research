{
 "cells": [
  {
   "cell_type": "code",
   "execution_count": 19,
   "metadata": {},
   "outputs": [
    {
     "data": {
      "text/plain": [
       "2.23606797749979"
      ]
     },
     "execution_count": 19,
     "metadata": {},
     "output_type": "execute_result"
    }
   ],
   "source": [
    "import numpy as np\n",
    "p1 = np.array([2,3])\n",
    "p2 = np.array([4,4])\n",
    "\n",
    "def distanceBwPoint(p1,p2):\n",
    "    return np.sqrt(np.sum(np.power(p2-p1,2)))\n",
    "distanceBwPoint(p1,p2)"
   ]
  },
  {
   "cell_type": "code",
   "execution_count": 20,
   "metadata": {},
   "outputs": [
    {
     "name": "stdout",
     "output_type": "stream",
     "text": [
      "3\n"
     ]
    }
   ],
   "source": [
    "import random\n",
    "def  majorityvotes(votes):\n",
    "    count_vote={}\n",
    "    winner =[]\n",
    "    for vote in votes:\n",
    "        if vote in count_vote:\n",
    "            count_vote[vote]+=1\n",
    "        else:\n",
    "            count_vote[vote]=1\n",
    "\n",
    "    maxvote = max(count_vote.values())\n",
    "    minvote = min(count_vote.values())\n",
    "    for key,val in  count_vote.items():\n",
    "        #print(key,val)\n",
    "        if val == maxvote:\n",
    "            winner.append(key)\n",
    "            \n",
    "    return random.choice(winner)\n",
    "\n",
    "votes =[1,2,3,4,3,2,1,3,6,2]\n",
    "winner=majorityvotes(votes)\n",
    "print(winner)"
   ]
  },
  {
   "cell_type": "code",
   "execution_count": 21,
   "metadata": {},
   "outputs": [
    {
     "data": {
      "image/png": "[encoded data removed]",
      "text/plain": [
       "<Figure size 432x288 with 1 Axes>"
      ]
     },
     "metadata": {
      "needs_background": "light"
     },
     "output_type": "display_data"
    }
   ],
   "source": [
    "import numpy as np\n",
    "points = np.array([[1,1],[1,2],[1,3],[2,1],[2,2],[2,3],[3,1],[3,2],[8,9],[9,10]])\n",
    "p = np.array([2.5,2])\n",
    "import matplotlib.pyplot as plt\n",
    "plt.plot(points[:,0],points[:,1],\"go\")\n",
    "plt.plot(p[0],p[1],\"bo\")\n",
    "plt.axis([0.5,3.5,0.5,3.5]);"
   ]
  },
  {
   "cell_type": "code",
   "execution_count": 22,
   "metadata": {},
   "outputs": [],
   "source": [
    "dist = np.zeros(points.shape[0])"
   ]
  },
  {
   "cell_type": "code",
   "execution_count": 23,
   "metadata": {},
   "outputs": [],
   "source": [
    "dist=np.argsort([1,2,3,4])"
   ]
  },
  {
   "cell_type": "code",
   "execution_count": 24,
   "metadata": {},
   "outputs": [],
   "source": [
    "def knnpredict(points,outcomes,k=5):\n",
    "    points = np.array([[1,1],[1,2],[1,3],[2,1],[2,2],[2,3],[3,1],[3,2],[8,9],[9,10]])\n",
    "    "
   ]
  },
  {
   "cell_type": "code",
   "execution_count": 25,
   "metadata": {},
   "outputs": [],
   "source": [
    "from sklearn import datasets\n",
    "import matplotlib.pyplot as plt\n",
    "iris = datasets.load_iris()"
   ]
  },
  {
   "cell_type": "code",
   "execution_count": 26,
   "metadata": {},
   "outputs": [
    {
     "data": {
      "image/png": "[encoded data removed]",
      "text/plain": [
       "<Figure size 432x288 with 1 Axes>"
      ]
     },
     "metadata": {
      "needs_background": "light"
     },
     "output_type": "display_data"
    }
   ],
   "source": [
    "predictor = iris.data[:,0:2]\n",
    "outcomes = iris.target\n",
    "plt.plot(predictor[outcomes ==0][:,0],predictor[outcomes ==0][:,1],\"ro\");\n",
    "plt.plot(predictor[outcomes ==1][:,0],predictor[outcomes ==1][:,1],\"go\");\n",
    "plt.plot(predictor[outcomes ==2][:,0],predictor[outcomes ==2][:,1],\"bo\");\n",
    "plt.savefig(\"predictor.pdf\")\n"
   ]
  },
  {
   "cell_type": "code",
   "execution_count": 33,
   "metadata": {},
   "outputs": [],
   "source": [
    "from sklearn.neighbors import KNeighborsClassifier\n",
    "knn=KNeighborsClassifier(n_neighbors=5)\n",
    "knn.fit(predictor,outcomes)\n",
    "sk_predictions=knn.predict(predictor)"
   ]
  },
  {
   "cell_type": "code",
   "execution_count": 34,
   "metadata": {},
   "outputs": [
    {
     "data": {
      "text/plain": [
       "(150,)"
      ]
     },
     "execution_count": 34,
     "metadata": {},
     "output_type": "execute_result"
    }
   ],
   "source": [
    "sk_predictions.shape"
   ]
  },
  {
   "cell_type": "code",
   "execution_count": null,
   "metadata": {},
   "outputs": [],
   "source": []
  },
  {
   "cell_type": "code",
   "execution_count": null,
   "metadata": {},
   "outputs": [],
   "source": []
  }
 ],
 "metadata": {
  "kernelspec": {
   "display_name": "Python 3",
   "language": "python",
   "name": "python3"
  },
  "language_info": {
   "codemirror_mode": {
    "name": "ipython",
    "version": 3
   },
   "file_extension": ".py",
   "mimetype": "text/x-python",
   "name": "python",
   "nbconvert_exporter": "python",
   "pygments_lexer": "ipython3",
   "version": "3.6.7"
  }
 },
 "nbformat": 4,
 "nbformat_minor": 2
}
