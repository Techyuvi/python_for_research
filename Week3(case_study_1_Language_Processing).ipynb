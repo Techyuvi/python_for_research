{
 "cells": [
  {
   "cell_type": "code",
   "execution_count": 15,
   "metadata": {},
   "outputs": [
    {
     "data": {
      "text/plain": [
       "{'This': 2,\n",
       " 'is': 2,\n",
       " 'my': 1,\n",
       " 'String': 1,\n",
       " 'and': 1,\n",
       " 'yuvraj': 1,\n",
       " 'singh': 1,\n",
       " 'tak': 1}"
      ]
     },
     "execution_count": 15,
     "metadata": {},
     "output_type": "execute_result"
    }
   ],
   "source": [
    "############# Counting Word #############\n",
    "Text = \"This is my String and This is yuvraj singh tak\"\n",
    "\n",
    "def CountingWord(Text):\n",
    "    word_count={}\n",
    "    for word in Text.split(\" \"):\n",
    "        if word in word_count:\n",
    "            word_count[word]+=1\n",
    "        else:\n",
    "            word_count[word] = 1\n",
    "    return word_count\n",
    "CountingWord(Text)"
   ]
  },
  {
   "cell_type": "code",
   "execution_count": 16,
   "metadata": {},
   "outputs": [
    {
     "data": {
      "text/plain": [
       "{'this': 2,\n",
       " 'is': 2,\n",
       " 'my': 1,\n",
       " 'string': 1,\n",
       " 'and': 1,\n",
       " 'yuvraj': 1,\n",
       " 'singh': 1,\n",
       " 'tak': 1}"
      ]
     },
     "execution_count": 16,
     "metadata": {},
     "output_type": "execute_result"
    }
   ],
   "source": [
    "Text = \"This is my String and This is yuvraj singh tak\"\n",
    "\n",
    "def CountingWord(Text):\n",
    "    Text = Text.lower()\n",
    "    skipchar = [\".\",\",\",\":\",\";\",'\"\"']\n",
    "    for ch in skipchar:\n",
    "        Text = Text.replace(ch,\"\")\n",
    "    word_count={}\n",
    "    for word in Text.split(\" \"):\n",
    "        if word in word_count:\n",
    "            word_count[word]+=1\n",
    "        else:\n",
    "            word_count[word] = 1\n",
    "    return word_count\n",
    "CountingWord(Text)"
   ]
  },
  {
   "cell_type": "code",
   "execution_count": 24,
   "metadata": {},
   "outputs": [
    {
     "data": {
      "text/plain": [
       "Counter({'this': 2,\n",
       "         'is': 2,\n",
       "         'my': 1,\n",
       "         'string': 1,\n",
       "         'and': 1,\n",
       "         'yuvraj': 1,\n",
       "         'singh': 1,\n",
       "         'tak': 1})"
      ]
     },
     "execution_count": 24,
     "metadata": {},
     "output_type": "execute_result"
    }
   ],
   "source": [
    "from collections import Counter\n",
    "\n",
    "Text = \"This is my String and This is yuvraj singh tak\"\n",
    "\n",
    "def CountingWordFast(Text):\n",
    "    \"\"\"\n",
    "    count the word using Counter module\n",
    "    \"\"\"\n",
    "    Text = Text.lower()\n",
    "    skipchar = [\".\",\",\",\":\",\";\",'\"\"']\n",
    "    for ch in skipchar:\n",
    "        Text = Text.replace(ch,\"\")\n",
    "        word_count = Counter(Text.split(\" \"))\n",
    "    return word_count\n",
    "CountingWordFast(Text)"
   ]
  },
  {
   "cell_type": "code",
   "execution_count": 35,
   "metadata": {},
   "outputs": [
    {
     "name": "stdout",
     "output_type": "stream",
     "text": [
      "156661\n"
     ]
    }
   ],
   "source": [
    "with open(\"/home/yuvraj/book.txt\",\"r\",encoding='utf8') as book:\n",
    "    word = ( book.read().replace(\"\\n\",\"\") ).replace(\"\\r\",\"\")\n",
    "print(len(word))"
   ]
  },
  {
   "cell_type": "code",
   "execution_count": 38,
   "metadata": {},
   "outputs": [],
   "source": [
    "state=word.find(\"Hold thy desperate hand.\")"
   ]
  },
  {
   "cell_type": "code",
   "execution_count": 41,
   "metadata": {},
   "outputs": [
    {
     "data": {
      "text/plain": [
       "'Hold thy desperate hand.Art thou a man? Thy form cries out thou art.Thy tears are womanish, thy wild acts denoteThe unreasonable fury of a beast.Unseemly woman in a seeming man,And ill-beseeming beast in seeming both!Thou hast amaz’d me. By my holy order,I thought thy disposition better temper’d.Hast thou slain Tybalt? Wilt thou slay thyself?And slay thy lady, that in thy life lives,By doing damned hate upon thyself?Why rail’st thou on thy birth, the heaven and earth?Since birth, and heaven and earth, all three do meetIn thee at once; which thou at once wouldst lose.Fie, fie, thou sham’st thy shape, thy love, thy wit,Which, like a usurer, abound’st in all,And usest none in that true use indeedWhich should bedeck thy shape, thy love, thy wit.Thy noble shape is but a form of wax,Digressing from the valour of a man;Thy dear love sworn but hollow perjury,Killing that love which thou hast vow’d to cherish;Thy wit, that ornament to shape and love,Misshapen in the conduct of them both,Like po'"
      ]
     },
     "execution_count": 41,
     "metadata": {},
     "output_type": "execute_result"
    }
   ],
   "source": [
    "word[state:state+1000]"
   ]
  },
  {
   "cell_type": "code",
   "execution_count": 45,
   "metadata": {},
   "outputs": [
    {
     "data": {
      "text/plain": [
       "['.gitconfig',\n",
       " 'Week-2(part2_numpy).ipynb',\n",
       " '.ipynb_checkpoints',\n",
       " '.mozilla',\n",
       " '.dmrc',\n",
       " '.java',\n",
       " 'Week2(Part3_Introduction_to_Matplotlib_and_Pyplot).ipynb',\n",
       " '.cache',\n",
       " '.ssh',\n",
       " 'Public',\n",
       " 'TimeWalk.pdf',\n",
       " '.python_history',\n",
       " 'Week3(Case_Study_Homework).ipynb',\n",
       " 'concatenate.pdf',\n",
       " 'Untitled4.ipynb',\n",
       " '.ICEauthority',\n",
       " 'Videos',\n",
       " 'Myfigure.pdf',\n",
       " 'book.txt',\n",
       " '.ipython',\n",
       " '.PyCharmCE2018.2',\n",
       " '.xsession-errors',\n",
       " '.bash_logout',\n",
       " '.PyCharmEdu2018.2',\n",
       " 'Untitled1.ipynb',\n",
       " 'Desktop',\n",
       " 'Templates',\n",
       " '.bashrc',\n",
       " 'Downloads',\n",
       " '.idlerc',\n",
       " '.bash_history',\n",
       " 'Music',\n",
       " 'Untitled3.ipynb',\n",
       " 'Pictures',\n",
       " 'Documents',\n",
       " '.thunderbird',\n",
       " 'Week2(Part5_Randomness_and_time_compression).ipynb',\n",
       " '.config',\n",
       " '.profile',\n",
       " '.Xauthority',\n",
       " 'PycharmProjects',\n",
       " 'new.py',\n",
       " '.xscreensaver',\n",
       " '.sudo_as_admin_successful',\n",
       " 'Mylogfigurel.pdf',\n",
       " 'python_for_research',\n",
       " '.xsession-errors.old',\n",
       " 'Week2(part4_Simulating _Randomness).ipynb',\n",
       " 'Myfigure.jpg',\n",
       " '.thumbnails',\n",
       " '.local',\n",
       " '.Xdefaults',\n",
       " '.gnupg',\n",
       " 'Untitled2.ipynb',\n",
       " 'Week3(Case_Study_1).ipynb',\n",
       " 'week2(Homework).ipynb',\n",
       " 'Untitled.ipynb',\n",
       " 'Week3(case_study_1_Language_Processing).ipynb',\n",
       " 'snap',\n",
       " '.jupyter',\n",
       " 'virt-py']"
      ]
     },
     "execution_count": 45,
     "metadata": {},
     "output_type": "execute_result"
    }
   ],
   "source": [
    "import os\n",
    "os.listdir(\"/home/yuvraj\")"
   ]
  },
  {
   "cell_type": "code",
   "execution_count": 76,
   "metadata": {},
   "outputs": [
    {
     "data": {
      "text/html": [
       "<div>\n",
       "<style scoped>\n",
       "    .dataframe tbody tr th:only-of-type {\n",
       "        vertical-align: middle;\n",
       "    }\n",
       "\n",
       "    .dataframe tbody tr th {\n",
       "        vertical-align: top;\n",
       "    }\n",
       "\n",
       "    .dataframe thead th {\n",
       "        text-align: right;\n",
       "    }\n",
       "</style>\n",
       "<table border=\"1\" class=\"dataframe\">\n",
       "  <thead>\n",
       "    <tr style=\"text-align: right;\">\n",
       "      <th></th>\n",
       "      <th>name</th>\n",
       "      <th>age</th>\n",
       "    </tr>\n",
       "  </thead>\n",
       "  <tbody>\n",
       "    <tr>\n",
       "      <th>1</th>\n",
       "      <td>james</td>\n",
       "      <td>22</td>\n",
       "    </tr>\n",
       "    <tr>\n",
       "      <th>2</th>\n",
       "      <td>jeen</td>\n",
       "      <td>56</td>\n",
       "    </tr>\n",
       "    <tr>\n",
       "      <th>3</th>\n",
       "      <td>jeen</td>\n",
       "      <td>20</td>\n",
       "    </tr>\n",
       "  </tbody>\n",
       "</table>\n",
       "</div>"
      ],
      "text/plain": [
       "    name age\n",
       "1  james  22\n",
       "2   jeen  56\n",
       "3   jeen  20"
      ]
     },
     "execution_count": 76,
     "metadata": {},
     "output_type": "execute_result"
    }
   ],
   "source": [
    "################ Pandas Dataframe ###################################\n",
    "import pandas as pd\n",
    "table = pd.DataFrame(columns=(\"name\",\"age\"))\n",
    "table.loc[1]=\"james\",22\n",
    "table.loc[2]=\"jeen\",56\n",
    "table.loc[3]=\"jeen\",20\n",
    "table"
   ]
  },
  {
   "cell_type": "code",
   "execution_count": null,
   "metadata": {},
   "outputs": [],
   "source": []
  },
  {
   "cell_type": "code",
   "execution_count": null,
   "metadata": {},
   "outputs": [],
   "source": []
  },
  {
   "cell_type": "code",
   "execution_count": null,
   "metadata": {},
   "outputs": [],
   "source": []
  }
 ],
 "metadata": {
  "kernelspec": {
   "display_name": "Python 3",
   "language": "python",
   "name": "python3"
  },
  "language_info": {
   "codemirror_mode": {
    "name": "ipython",
    "version": 3
   },
   "file_extension": ".py",
   "mimetype": "text/x-python",
   "name": "python",
   "nbconvert_exporter": "python",
   "pygments_lexer": "ipython3",
   "version": "3.6.7"
  }
 },
 "nbformat": 4,
 "nbformat_minor": 2
}
