{
 "cells": [
  {
   "cell_type": "code",
   "execution_count": 1,
   "metadata": {},
   "outputs": [],
   "source": [
    "################################# into to panda ##################################\n",
    "## Series data\n",
    "import pandas as pd\n",
    "y = pd.Series([0,1,2,3,4,5],index=[\"o\",\"one\",\"two\",\"three\",\"fourth\",\"fifth\"])"
   ]
  },
  {
   "cell_type": "code",
   "execution_count": 2,
   "metadata": {},
   "outputs": [
    {
     "data": {
      "text/plain": [
       "o         0\n",
       "one       1\n",
       "two       2\n",
       "three     3\n",
       "fourth    4\n",
       "fifth     5\n",
       "dtype: int64"
      ]
     },
     "execution_count": 2,
     "metadata": {},
     "output_type": "execute_result"
    }
   ],
   "source": [
    "y"
   ]
  },
  {
   "cell_type": "code",
   "execution_count": 3,
   "metadata": {},
   "outputs": [
    {
     "data": {
      "text/plain": [
       "one      1\n",
       "fifth    5\n",
       "dtype: int64"
      ]
     },
     "execution_count": 3,
     "metadata": {},
     "output_type": "execute_result"
    }
   ],
   "source": [
    "y[[\"one\",\"fifth\"]]"
   ]
  },
  {
   "cell_type": "code",
   "execution_count": 4,
   "metadata": {},
   "outputs": [
    {
     "data": {
      "text/plain": [
       "jimmy     21\n",
       "chetan    23\n",
       "ravi      45\n",
       "dtype: int64"
      ]
     },
     "execution_count": 4,
     "metadata": {},
     "output_type": "execute_result"
    }
   ],
   "source": [
    "age = {\"jimmy\":21,\"chetan\":23,\"ravi\":45}\n",
    "age_data=pd.Series(age)\n",
    "age_data"
   ]
  },
  {
   "cell_type": "code",
   "execution_count": 72,
   "metadata": {},
   "outputs": [
    {
     "data": {
      "text/html": [
       "<div>\n",
       "<style scoped>\n",
       "    .dataframe tbody tr th:only-of-type {\n",
       "        vertical-align: middle;\n",
       "    }\n",
       "\n",
       "    .dataframe tbody tr th {\n",
       "        vertical-align: top;\n",
       "    }\n",
       "\n",
       "    .dataframe thead th {\n",
       "        text-align: right;\n",
       "    }\n",
       "</style>\n",
       "<table border=\"1\" class=\"dataframe\">\n",
       "  <thead>\n",
       "    <tr style=\"text-align: right;\">\n",
       "      <th></th>\n",
       "      <th>name</th>\n",
       "      <th>age</th>\n",
       "      <th>Zip</th>\n",
       "    </tr>\n",
       "  </thead>\n",
       "  <tbody>\n",
       "    <tr>\n",
       "      <th>0</th>\n",
       "      <td>yuvi</td>\n",
       "      <td>21</td>\n",
       "      <td>1023</td>\n",
       "    </tr>\n",
       "    <tr>\n",
       "      <th>1</th>\n",
       "      <td>ravi</td>\n",
       "      <td>45</td>\n",
       "      <td>4531</td>\n",
       "    </tr>\n",
       "    <tr>\n",
       "      <th>2</th>\n",
       "      <td>raju</td>\n",
       "      <td>67</td>\n",
       "      <td>6782</td>\n",
       "    </tr>\n",
       "    <tr>\n",
       "      <th>3</th>\n",
       "      <td>chetan</td>\n",
       "      <td>32</td>\n",
       "      <td>5532</td>\n",
       "    </tr>\n",
       "  </tbody>\n",
       "</table>\n",
       "</div>"
      ],
      "text/plain": [
       "     name  age   Zip\n",
       "0    yuvi   21  1023\n",
       "1    ravi   45  4531\n",
       "2    raju   67  6782\n",
       "3  chetan   32  5532"
      ]
     },
     "execution_count": 72,
     "metadata": {},
     "output_type": "execute_result"
    }
   ],
   "source": [
    "## DataFarame example\n",
    "data_collection={\"name\":[\"yuvi\",\"ravi\",\"raju\",\"chetan\"],\n",
    "                  \"age\":[21,45,67,32],\"Zip\":[1023,4531,6782,5532]}\n",
    "collected_data=pd.DataFrame(data_collection,columns=[\"name\",\"age\",\"Zip\"])\n",
    "collected_data"
   ]
  },
  {
   "cell_type": "code",
   "execution_count": 6,
   "metadata": {},
   "outputs": [
    {
     "data": {
      "text/plain": [
       "0      yuvi\n",
       "1      ravi\n",
       "2      raju\n",
       "3    chetan\n",
       "Name: name, dtype: object"
      ]
     },
     "execution_count": 6,
     "metadata": {},
     "output_type": "execute_result"
    }
   ],
   "source": [
    "collected_data.name"
   ]
  },
  {
   "cell_type": "code",
   "execution_count": 7,
   "metadata": {},
   "outputs": [
    {
     "data": {
      "text/plain": [
       "0    21\n",
       "1    45\n",
       "2    67\n",
       "3    32\n",
       "Name: age, dtype: int64"
      ]
     },
     "execution_count": 7,
     "metadata": {},
     "output_type": "execute_result"
    }
   ],
   "source": [
    "collected_data[\"age\"]"
   ]
  },
  {
   "cell_type": "code",
   "execution_count": 8,
   "metadata": {},
   "outputs": [],
   "source": [
    "x = pd.Series([0,1,2,3,4,5],index=[\"l\",\"one\",\"two\",\"three\",\"fourth\",\"fifth\"])"
   ]
  },
  {
   "cell_type": "code",
   "execution_count": 9,
   "metadata": {},
   "outputs": [
    {
     "data": {
      "text/plain": [
       "Index(['l', 'one', 'two', 'three', 'fourth', 'fifth'], dtype='object')"
      ]
     },
     "execution_count": 9,
     "metadata": {},
     "output_type": "execute_result"
    }
   ],
   "source": [
    "x.index"
   ]
  },
  {
   "cell_type": "code",
   "execution_count": 10,
   "metadata": {},
   "outputs": [
    {
     "data": {
      "text/plain": [
       "l         0\n",
       "one       1\n",
       "two       2\n",
       "three     3\n",
       "fourth    4\n",
       "fifth     5\n",
       "dtype: int64"
      ]
     },
     "execution_count": 10,
     "metadata": {},
     "output_type": "execute_result"
    }
   ],
   "source": [
    "sorted(x.index)\n",
    "x"
   ]
  },
  {
   "cell_type": "code",
   "execution_count": 11,
   "metadata": {},
   "outputs": [],
   "source": [
    "x = x.reindex(sorted(x.index))"
   ]
  },
  {
   "cell_type": "code",
   "execution_count": 12,
   "metadata": {},
   "outputs": [
    {
     "data": {
      "text/plain": [
       "fifth     5\n",
       "fourth    4\n",
       "l         0\n",
       "one       1\n",
       "three     3\n",
       "two       2\n",
       "dtype: int64"
      ]
     },
     "execution_count": 12,
     "metadata": {},
     "output_type": "execute_result"
    }
   ],
   "source": [
    "x"
   ]
  },
  {
   "cell_type": "code",
   "execution_count": 13,
   "metadata": {},
   "outputs": [
    {
     "data": {
      "text/plain": [
       "o         0\n",
       "one       1\n",
       "two       2\n",
       "three     3\n",
       "fourth    4\n",
       "fifth     5\n",
       "dtype: int64"
      ]
     },
     "execution_count": 13,
     "metadata": {},
     "output_type": "execute_result"
    }
   ],
   "source": [
    "y"
   ]
  },
  {
   "cell_type": "code",
   "execution_count": 14,
   "metadata": {},
   "outputs": [
    {
     "data": {
      "text/plain": [
       "fifth     29.0\n",
       "fourth    19.0\n",
       "l          NaN\n",
       "o          NaN\n",
       "one        1.0\n",
       "three     11.0\n",
       "two        5.0\n",
       "dtype: float64"
      ]
     },
     "execution_count": 14,
     "metadata": {},
     "output_type": "execute_result"
    }
   ],
   "source": [
    "x+(x*y)-(x/y)+(x-y)"
   ]
  },
  {
   "cell_type": "code",
   "execution_count": 140,
   "metadata": {},
   "outputs": [],
   "source": [
    "### Loding data an inspecting data\n",
    "import numpy as np\n",
    "whiskies_data=pd.read_csv(\"/home/yuvraj/Documents/whiskies.txt\")\n",
    "whiskies_data[\"Region\"] = pd.read_csv(\"/home/yuvraj/Documents/regions.txt\")"
   ]
  },
  {
   "cell_type": "code",
   "execution_count": 141,
   "metadata": {},
   "outputs": [
    {
     "data": {
      "text/html": [
       "<div>\n",
       "<style scoped>\n",
       "    .dataframe tbody tr th:only-of-type {\n",
       "        vertical-align: middle;\n",
       "    }\n",
       "\n",
       "    .dataframe tbody tr th {\n",
       "        vertical-align: top;\n",
       "    }\n",
       "\n",
       "    .dataframe thead th {\n",
       "        text-align: right;\n",
       "    }\n",
       "</style>\n",
       "<table border=\"1\" class=\"dataframe\">\n",
       "  <thead>\n",
       "    <tr style=\"text-align: right;\">\n",
       "      <th></th>\n",
       "      <th>RowID</th>\n",
       "      <th>Distillery</th>\n",
       "      <th>Body</th>\n",
       "      <th>Sweetness</th>\n",
       "      <th>Smoky</th>\n",
       "      <th>Medicinal</th>\n",
       "      <th>Tobacco</th>\n",
       "      <th>Honey</th>\n",
       "      <th>Spicy</th>\n",
       "      <th>Winey</th>\n",
       "      <th>Nutty</th>\n",
       "      <th>Malty</th>\n",
       "      <th>Fruity</th>\n",
       "      <th>Floral</th>\n",
       "      <th>Postcode</th>\n",
       "      <th>Latitude</th>\n",
       "      <th>Longitude</th>\n",
       "      <th>Region</th>\n",
       "    </tr>\n",
       "  </thead>\n",
       "  <tbody>\n",
       "    <tr>\n",
       "      <th>0</th>\n",
       "      <td>1</td>\n",
       "      <td>Aberfeldy</td>\n",
       "      <td>2</td>\n",
       "      <td>2</td>\n",
       "      <td>2</td>\n",
       "      <td>0</td>\n",
       "      <td>0</td>\n",
       "      <td>2</td>\n",
       "      <td>1</td>\n",
       "      <td>2</td>\n",
       "      <td>2</td>\n",
       "      <td>2</td>\n",
       "      <td>2</td>\n",
       "      <td>2</td>\n",
       "      <td>\\tPH15 2EB</td>\n",
       "      <td>286580</td>\n",
       "      <td>749680</td>\n",
       "      <td>Highlands</td>\n",
       "    </tr>\n",
       "    <tr>\n",
       "      <th>1</th>\n",
       "      <td>2</td>\n",
       "      <td>Aberlour</td>\n",
       "      <td>3</td>\n",
       "      <td>3</td>\n",
       "      <td>1</td>\n",
       "      <td>0</td>\n",
       "      <td>0</td>\n",
       "      <td>4</td>\n",
       "      <td>3</td>\n",
       "      <td>2</td>\n",
       "      <td>2</td>\n",
       "      <td>3</td>\n",
       "      <td>3</td>\n",
       "      <td>2</td>\n",
       "      <td>\\tAB38 9PJ</td>\n",
       "      <td>326340</td>\n",
       "      <td>842570</td>\n",
       "      <td>Speyside</td>\n",
       "    </tr>\n",
       "    <tr>\n",
       "      <th>2</th>\n",
       "      <td>3</td>\n",
       "      <td>AnCnoc</td>\n",
       "      <td>1</td>\n",
       "      <td>3</td>\n",
       "      <td>2</td>\n",
       "      <td>0</td>\n",
       "      <td>0</td>\n",
       "      <td>2</td>\n",
       "      <td>0</td>\n",
       "      <td>0</td>\n",
       "      <td>2</td>\n",
       "      <td>2</td>\n",
       "      <td>3</td>\n",
       "      <td>2</td>\n",
       "      <td>\\tAB5 5LI</td>\n",
       "      <td>352960</td>\n",
       "      <td>839320</td>\n",
       "      <td>Highlands</td>\n",
       "    </tr>\n",
       "    <tr>\n",
       "      <th>3</th>\n",
       "      <td>4</td>\n",
       "      <td>Ardbeg</td>\n",
       "      <td>4</td>\n",
       "      <td>1</td>\n",
       "      <td>4</td>\n",
       "      <td>4</td>\n",
       "      <td>0</td>\n",
       "      <td>0</td>\n",
       "      <td>2</td>\n",
       "      <td>0</td>\n",
       "      <td>1</td>\n",
       "      <td>2</td>\n",
       "      <td>1</td>\n",
       "      <td>0</td>\n",
       "      <td>\\tPA42 7EB</td>\n",
       "      <td>141560</td>\n",
       "      <td>646220</td>\n",
       "      <td>Islay</td>\n",
       "    </tr>\n",
       "    <tr>\n",
       "      <th>4</th>\n",
       "      <td>5</td>\n",
       "      <td>Ardmore</td>\n",
       "      <td>2</td>\n",
       "      <td>2</td>\n",
       "      <td>2</td>\n",
       "      <td>0</td>\n",
       "      <td>0</td>\n",
       "      <td>1</td>\n",
       "      <td>1</td>\n",
       "      <td>1</td>\n",
       "      <td>2</td>\n",
       "      <td>3</td>\n",
       "      <td>1</td>\n",
       "      <td>1</td>\n",
       "      <td>\\tAB54 4NH</td>\n",
       "      <td>355350</td>\n",
       "      <td>829140</td>\n",
       "      <td>Highlands</td>\n",
       "    </tr>\n",
       "  </tbody>\n",
       "</table>\n",
       "</div>"
      ],
      "text/plain": [
       "   RowID Distillery  Body  Sweetness  Smoky  Medicinal  Tobacco  Honey  Spicy  \\\n",
       "0      1  Aberfeldy     2          2      2          0        0      2      1   \n",
       "1      2   Aberlour     3          3      1          0        0      4      3   \n",
       "2      3     AnCnoc     1          3      2          0        0      2      0   \n",
       "3      4     Ardbeg     4          1      4          4        0      0      2   \n",
       "4      5    Ardmore     2          2      2          0        0      1      1   \n",
       "\n",
       "   Winey  Nutty  Malty  Fruity  Floral     Postcode   Latitude   Longitude  \\\n",
       "0      2      2      2       2       2   \\tPH15 2EB     286580      749680   \n",
       "1      2      2      3       3       2   \\tAB38 9PJ     326340      842570   \n",
       "2      0      2      2       3       2    \\tAB5 5LI     352960      839320   \n",
       "3      0      1      2       1       0   \\tPA42 7EB     141560      646220   \n",
       "4      1      2      3       1       1   \\tAB54 4NH     355350      829140   \n",
       "\n",
       "      Region  \n",
       "0  Highlands  \n",
       "1   Speyside  \n",
       "2  Highlands  \n",
       "3      Islay  \n",
       "4  Highlands  "
      ]
     },
     "execution_count": 141,
     "metadata": {},
     "output_type": "execute_result"
    }
   ],
   "source": [
    "whiskies_data.head()"
   ]
  },
  {
   "cell_type": "code",
   "execution_count": 143,
   "metadata": {},
   "outputs": [
    {
     "data": {
      "text/html": [
       "<div>\n",
       "<style scoped>\n",
       "    .dataframe tbody tr th:only-of-type {\n",
       "        vertical-align: middle;\n",
       "    }\n",
       "\n",
       "    .dataframe tbody tr th {\n",
       "        vertical-align: top;\n",
       "    }\n",
       "\n",
       "    .dataframe thead th {\n",
       "        text-align: right;\n",
       "    }\n",
       "</style>\n",
       "<table border=\"1\" class=\"dataframe\">\n",
       "  <thead>\n",
       "    <tr style=\"text-align: right;\">\n",
       "      <th></th>\n",
       "      <th>RowID</th>\n",
       "      <th>Distillery</th>\n",
       "      <th>Body</th>\n",
       "      <th>Sweetness</th>\n",
       "      <th>Smoky</th>\n",
       "      <th>Medicinal</th>\n",
       "      <th>Tobacco</th>\n",
       "      <th>Honey</th>\n",
       "      <th>Spicy</th>\n",
       "      <th>Winey</th>\n",
       "      <th>Nutty</th>\n",
       "      <th>Malty</th>\n",
       "      <th>Fruity</th>\n",
       "      <th>Floral</th>\n",
       "      <th>Postcode</th>\n",
       "      <th>Latitude</th>\n",
       "      <th>Longitude</th>\n",
       "      <th>Region</th>\n",
       "    </tr>\n",
       "  </thead>\n",
       "  <tbody>\n",
       "    <tr>\n",
       "      <th>81</th>\n",
       "      <td>82</td>\n",
       "      <td>Tobermory</td>\n",
       "      <td>1</td>\n",
       "      <td>1</td>\n",
       "      <td>1</td>\n",
       "      <td>0</td>\n",
       "      <td>0</td>\n",
       "      <td>1</td>\n",
       "      <td>0</td>\n",
       "      <td>0</td>\n",
       "      <td>1</td>\n",
       "      <td>2</td>\n",
       "      <td>2</td>\n",
       "      <td>2</td>\n",
       "      <td>PA75 6NR</td>\n",
       "      <td>150450</td>\n",
       "      <td>755070</td>\n",
       "      <td>Islands</td>\n",
       "    </tr>\n",
       "    <tr>\n",
       "      <th>82</th>\n",
       "      <td>83</td>\n",
       "      <td>Tomatin</td>\n",
       "      <td>2</td>\n",
       "      <td>3</td>\n",
       "      <td>2</td>\n",
       "      <td>0</td>\n",
       "      <td>0</td>\n",
       "      <td>2</td>\n",
       "      <td>2</td>\n",
       "      <td>1</td>\n",
       "      <td>1</td>\n",
       "      <td>2</td>\n",
       "      <td>0</td>\n",
       "      <td>1</td>\n",
       "      <td>IV13 7YT</td>\n",
       "      <td>279120</td>\n",
       "      <td>829630</td>\n",
       "      <td>Highlands</td>\n",
       "    </tr>\n",
       "    <tr>\n",
       "      <th>83</th>\n",
       "      <td>84</td>\n",
       "      <td>Tomintoul</td>\n",
       "      <td>0</td>\n",
       "      <td>3</td>\n",
       "      <td>1</td>\n",
       "      <td>0</td>\n",
       "      <td>0</td>\n",
       "      <td>2</td>\n",
       "      <td>2</td>\n",
       "      <td>1</td>\n",
       "      <td>1</td>\n",
       "      <td>2</td>\n",
       "      <td>1</td>\n",
       "      <td>2</td>\n",
       "      <td>AB37 9AQ</td>\n",
       "      <td>315100</td>\n",
       "      <td>825560</td>\n",
       "      <td>Speyside</td>\n",
       "    </tr>\n",
       "    <tr>\n",
       "      <th>84</th>\n",
       "      <td>85</td>\n",
       "      <td>Tormore</td>\n",
       "      <td>2</td>\n",
       "      <td>2</td>\n",
       "      <td>1</td>\n",
       "      <td>0</td>\n",
       "      <td>0</td>\n",
       "      <td>1</td>\n",
       "      <td>0</td>\n",
       "      <td>1</td>\n",
       "      <td>2</td>\n",
       "      <td>1</td>\n",
       "      <td>0</td>\n",
       "      <td>0</td>\n",
       "      <td>PH26 3LR</td>\n",
       "      <td>315180</td>\n",
       "      <td>834960</td>\n",
       "      <td>Speyside</td>\n",
       "    </tr>\n",
       "    <tr>\n",
       "      <th>85</th>\n",
       "      <td>86</td>\n",
       "      <td>Tullibardine</td>\n",
       "      <td>2</td>\n",
       "      <td>3</td>\n",
       "      <td>0</td>\n",
       "      <td>0</td>\n",
       "      <td>1</td>\n",
       "      <td>0</td>\n",
       "      <td>2</td>\n",
       "      <td>1</td>\n",
       "      <td>1</td>\n",
       "      <td>2</td>\n",
       "      <td>2</td>\n",
       "      <td>1</td>\n",
       "      <td>PH4 1QG</td>\n",
       "      <td>289690</td>\n",
       "      <td>708850</td>\n",
       "      <td>Highlands</td>\n",
       "    </tr>\n",
       "  </tbody>\n",
       "</table>\n",
       "</div>"
      ],
      "text/plain": [
       "    RowID    Distillery  Body  Sweetness  Smoky  Medicinal  Tobacco  Honey  \\\n",
       "81     82     Tobermory     1          1      1          0        0      1   \n",
       "82     83       Tomatin     2          3      2          0        0      2   \n",
       "83     84     Tomintoul     0          3      1          0        0      2   \n",
       "84     85       Tormore     2          2      1          0        0      1   \n",
       "85     86  Tullibardine     2          3      0          0        1      0   \n",
       "\n",
       "    Spicy  Winey  Nutty  Malty  Fruity  Floral   Postcode   Latitude  \\\n",
       "81      0      0      1      2       2       2   PA75 6NR     150450   \n",
       "82      2      1      1      2       0       1   IV13 7YT     279120   \n",
       "83      2      1      1      2       1       2   AB37 9AQ     315100   \n",
       "84      0      1      2      1       0       0   PH26 3LR     315180   \n",
       "85      2      1      1      2       2       1    PH4 1QG     289690   \n",
       "\n",
       "     Longitude     Region  \n",
       "81      755070    Islands  \n",
       "82      829630  Highlands  \n",
       "83      825560   Speyside  \n",
       "84      834960   Speyside  \n",
       "85      708850  Highlands  "
      ]
     },
     "execution_count": 143,
     "metadata": {},
     "output_type": "execute_result"
    }
   ],
   "source": [
    "whiskies_data.tail()"
   ]
  },
  {
   "cell_type": "code",
   "execution_count": 144,
   "metadata": {},
   "outputs": [
    {
     "data": {
      "text/html": [
       "<div>\n",
       "<style scoped>\n",
       "    .dataframe tbody tr th:only-of-type {\n",
       "        vertical-align: middle;\n",
       "    }\n",
       "\n",
       "    .dataframe tbody tr th {\n",
       "        vertical-align: top;\n",
       "    }\n",
       "\n",
       "    .dataframe thead th {\n",
       "        text-align: right;\n",
       "    }\n",
       "</style>\n",
       "<table border=\"1\" class=\"dataframe\">\n",
       "  <thead>\n",
       "    <tr style=\"text-align: right;\">\n",
       "      <th></th>\n",
       "      <th>#####Regions#####</th>\n",
       "    </tr>\n",
       "  </thead>\n",
       "  <tbody>\n",
       "    <tr>\n",
       "      <th>0</th>\n",
       "      <td>Highlands</td>\n",
       "    </tr>\n",
       "    <tr>\n",
       "      <th>1</th>\n",
       "      <td>Speyside</td>\n",
       "    </tr>\n",
       "    <tr>\n",
       "      <th>2</th>\n",
       "      <td>Highlands</td>\n",
       "    </tr>\n",
       "    <tr>\n",
       "      <th>3</th>\n",
       "      <td>Islay</td>\n",
       "    </tr>\n",
       "    <tr>\n",
       "      <th>4</th>\n",
       "      <td>Highlands</td>\n",
       "    </tr>\n",
       "  </tbody>\n",
       "</table>\n",
       "</div>"
      ],
      "text/plain": [
       "  #####Regions#####\n",
       "0         Highlands\n",
       "1          Speyside\n",
       "2         Highlands\n",
       "3             Islay\n",
       "4         Highlands"
      ]
     },
     "execution_count": 144,
     "metadata": {},
     "output_type": "execute_result"
    }
   ],
   "source": [
    "regions_data.head()"
   ]
  },
  {
   "cell_type": "code",
   "execution_count": 145,
   "metadata": {},
   "outputs": [
    {
     "data": {
      "text/html": [
       "<div>\n",
       "<style scoped>\n",
       "    .dataframe tbody tr th:only-of-type {\n",
       "        vertical-align: middle;\n",
       "    }\n",
       "\n",
       "    .dataframe tbody tr th {\n",
       "        vertical-align: top;\n",
       "    }\n",
       "\n",
       "    .dataframe thead th {\n",
       "        text-align: right;\n",
       "    }\n",
       "</style>\n",
       "<table border=\"1\" class=\"dataframe\">\n",
       "  <thead>\n",
       "    <tr style=\"text-align: right;\">\n",
       "      <th></th>\n",
       "      <th>#####Regions#####</th>\n",
       "    </tr>\n",
       "  </thead>\n",
       "  <tbody>\n",
       "    <tr>\n",
       "      <th>81</th>\n",
       "      <td>Islands</td>\n",
       "    </tr>\n",
       "    <tr>\n",
       "      <th>82</th>\n",
       "      <td>Highlands</td>\n",
       "    </tr>\n",
       "    <tr>\n",
       "      <th>83</th>\n",
       "      <td>Speyside</td>\n",
       "    </tr>\n",
       "    <tr>\n",
       "      <th>84</th>\n",
       "      <td>Speyside</td>\n",
       "    </tr>\n",
       "    <tr>\n",
       "      <th>85</th>\n",
       "      <td>Highlands</td>\n",
       "    </tr>\n",
       "  </tbody>\n",
       "</table>\n",
       "</div>"
      ],
      "text/plain": [
       "   #####Regions#####\n",
       "81           Islands\n",
       "82         Highlands\n",
       "83          Speyside\n",
       "84          Speyside\n",
       "85         Highlands"
      ]
     },
     "execution_count": 145,
     "metadata": {},
     "output_type": "execute_result"
    }
   ],
   "source": [
    "regions_data.tail()"
   ]
  },
  {
   "cell_type": "code",
   "execution_count": 147,
   "metadata": {},
   "outputs": [
    {
     "data": {
      "text/html": [
       "<div>\n",
       "<style scoped>\n",
       "    .dataframe tbody tr th:only-of-type {\n",
       "        vertical-align: middle;\n",
       "    }\n",
       "\n",
       "    .dataframe tbody tr th {\n",
       "        vertical-align: top;\n",
       "    }\n",
       "\n",
       "    .dataframe thead th {\n",
       "        text-align: right;\n",
       "    }\n",
       "</style>\n",
       "<table border=\"1\" class=\"dataframe\">\n",
       "  <thead>\n",
       "    <tr style=\"text-align: right;\">\n",
       "      <th></th>\n",
       "      <th>RowID</th>\n",
       "      <th>Distillery</th>\n",
       "      <th>Body</th>\n",
       "      <th>Sweetness</th>\n",
       "      <th>Smoky</th>\n",
       "      <th>Medicinal</th>\n",
       "      <th>Tobacco</th>\n",
       "      <th>Honey</th>\n",
       "      <th>Spicy</th>\n",
       "      <th>Winey</th>\n",
       "      <th>Nutty</th>\n",
       "      <th>Malty</th>\n",
       "      <th>Fruity</th>\n",
       "      <th>Floral</th>\n",
       "      <th>Postcode</th>\n",
       "      <th>Latitude</th>\n",
       "      <th>Longitude</th>\n",
       "      <th>Region</th>\n",
       "    </tr>\n",
       "  </thead>\n",
       "  <tbody>\n",
       "    <tr>\n",
       "      <th>0</th>\n",
       "      <td>1</td>\n",
       "      <td>Aberfeldy</td>\n",
       "      <td>2</td>\n",
       "      <td>2</td>\n",
       "      <td>2</td>\n",
       "      <td>0</td>\n",
       "      <td>0</td>\n",
       "      <td>2</td>\n",
       "      <td>1</td>\n",
       "      <td>2</td>\n",
       "      <td>2</td>\n",
       "      <td>2</td>\n",
       "      <td>2</td>\n",
       "      <td>2</td>\n",
       "      <td>\\tPH15 2EB</td>\n",
       "      <td>286580</td>\n",
       "      <td>749680</td>\n",
       "      <td>Highlands</td>\n",
       "    </tr>\n",
       "    <tr>\n",
       "      <th>1</th>\n",
       "      <td>2</td>\n",
       "      <td>Aberlour</td>\n",
       "      <td>3</td>\n",
       "      <td>3</td>\n",
       "      <td>1</td>\n",
       "      <td>0</td>\n",
       "      <td>0</td>\n",
       "      <td>4</td>\n",
       "      <td>3</td>\n",
       "      <td>2</td>\n",
       "      <td>2</td>\n",
       "      <td>3</td>\n",
       "      <td>3</td>\n",
       "      <td>2</td>\n",
       "      <td>\\tAB38 9PJ</td>\n",
       "      <td>326340</td>\n",
       "      <td>842570</td>\n",
       "      <td>Speyside</td>\n",
       "    </tr>\n",
       "    <tr>\n",
       "      <th>2</th>\n",
       "      <td>3</td>\n",
       "      <td>AnCnoc</td>\n",
       "      <td>1</td>\n",
       "      <td>3</td>\n",
       "      <td>2</td>\n",
       "      <td>0</td>\n",
       "      <td>0</td>\n",
       "      <td>2</td>\n",
       "      <td>0</td>\n",
       "      <td>0</td>\n",
       "      <td>2</td>\n",
       "      <td>2</td>\n",
       "      <td>3</td>\n",
       "      <td>2</td>\n",
       "      <td>\\tAB5 5LI</td>\n",
       "      <td>352960</td>\n",
       "      <td>839320</td>\n",
       "      <td>Highlands</td>\n",
       "    </tr>\n",
       "    <tr>\n",
       "      <th>3</th>\n",
       "      <td>4</td>\n",
       "      <td>Ardbeg</td>\n",
       "      <td>4</td>\n",
       "      <td>1</td>\n",
       "      <td>4</td>\n",
       "      <td>4</td>\n",
       "      <td>0</td>\n",
       "      <td>0</td>\n",
       "      <td>2</td>\n",
       "      <td>0</td>\n",
       "      <td>1</td>\n",
       "      <td>2</td>\n",
       "      <td>1</td>\n",
       "      <td>0</td>\n",
       "      <td>\\tPA42 7EB</td>\n",
       "      <td>141560</td>\n",
       "      <td>646220</td>\n",
       "      <td>Islay</td>\n",
       "    </tr>\n",
       "    <tr>\n",
       "      <th>4</th>\n",
       "      <td>5</td>\n",
       "      <td>Ardmore</td>\n",
       "      <td>2</td>\n",
       "      <td>2</td>\n",
       "      <td>2</td>\n",
       "      <td>0</td>\n",
       "      <td>0</td>\n",
       "      <td>1</td>\n",
       "      <td>1</td>\n",
       "      <td>1</td>\n",
       "      <td>2</td>\n",
       "      <td>3</td>\n",
       "      <td>1</td>\n",
       "      <td>1</td>\n",
       "      <td>\\tAB54 4NH</td>\n",
       "      <td>355350</td>\n",
       "      <td>829140</td>\n",
       "      <td>Highlands</td>\n",
       "    </tr>\n",
       "    <tr>\n",
       "      <th>5</th>\n",
       "      <td>6</td>\n",
       "      <td>ArranIsleOf</td>\n",
       "      <td>2</td>\n",
       "      <td>3</td>\n",
       "      <td>1</td>\n",
       "      <td>1</td>\n",
       "      <td>0</td>\n",
       "      <td>1</td>\n",
       "      <td>1</td>\n",
       "      <td>1</td>\n",
       "      <td>0</td>\n",
       "      <td>1</td>\n",
       "      <td>1</td>\n",
       "      <td>2</td>\n",
       "      <td>KA27 8HJ</td>\n",
       "      <td>194050</td>\n",
       "      <td>649950</td>\n",
       "      <td>Islands</td>\n",
       "    </tr>\n",
       "    <tr>\n",
       "      <th>6</th>\n",
       "      <td>7</td>\n",
       "      <td>Auchentoshan</td>\n",
       "      <td>0</td>\n",
       "      <td>2</td>\n",
       "      <td>0</td>\n",
       "      <td>0</td>\n",
       "      <td>0</td>\n",
       "      <td>1</td>\n",
       "      <td>1</td>\n",
       "      <td>0</td>\n",
       "      <td>2</td>\n",
       "      <td>2</td>\n",
       "      <td>3</td>\n",
       "      <td>3</td>\n",
       "      <td>G81 4SJ</td>\n",
       "      <td>247670</td>\n",
       "      <td>672610</td>\n",
       "      <td>Lowlands</td>\n",
       "    </tr>\n",
       "    <tr>\n",
       "      <th>7</th>\n",
       "      <td>8</td>\n",
       "      <td>Auchroisk</td>\n",
       "      <td>2</td>\n",
       "      <td>3</td>\n",
       "      <td>1</td>\n",
       "      <td>0</td>\n",
       "      <td>0</td>\n",
       "      <td>2</td>\n",
       "      <td>1</td>\n",
       "      <td>2</td>\n",
       "      <td>2</td>\n",
       "      <td>2</td>\n",
       "      <td>2</td>\n",
       "      <td>1</td>\n",
       "      <td>\\tAB55 3XS</td>\n",
       "      <td>340754</td>\n",
       "      <td>848623</td>\n",
       "      <td>Speyside</td>\n",
       "    </tr>\n",
       "    <tr>\n",
       "      <th>8</th>\n",
       "      <td>9</td>\n",
       "      <td>Aultmore</td>\n",
       "      <td>2</td>\n",
       "      <td>2</td>\n",
       "      <td>1</td>\n",
       "      <td>0</td>\n",
       "      <td>0</td>\n",
       "      <td>1</td>\n",
       "      <td>0</td>\n",
       "      <td>0</td>\n",
       "      <td>2</td>\n",
       "      <td>2</td>\n",
       "      <td>2</td>\n",
       "      <td>2</td>\n",
       "      <td>\\tAB55 3QY</td>\n",
       "      <td>340754</td>\n",
       "      <td>848623</td>\n",
       "      <td>Speyside</td>\n",
       "    </tr>\n",
       "    <tr>\n",
       "      <th>9</th>\n",
       "      <td>10</td>\n",
       "      <td>Balblair</td>\n",
       "      <td>2</td>\n",
       "      <td>3</td>\n",
       "      <td>2</td>\n",
       "      <td>1</td>\n",
       "      <td>0</td>\n",
       "      <td>0</td>\n",
       "      <td>2</td>\n",
       "      <td>0</td>\n",
       "      <td>2</td>\n",
       "      <td>1</td>\n",
       "      <td>2</td>\n",
       "      <td>1</td>\n",
       "      <td>\\tIV19 1LB</td>\n",
       "      <td>270820</td>\n",
       "      <td>885770</td>\n",
       "      <td>Highlands</td>\n",
       "    </tr>\n",
       "  </tbody>\n",
       "</table>\n",
       "</div>"
      ],
      "text/plain": [
       "   RowID    Distillery  Body  Sweetness  Smoky  Medicinal  Tobacco  Honey  \\\n",
       "0      1     Aberfeldy     2          2      2          0        0      2   \n",
       "1      2      Aberlour     3          3      1          0        0      4   \n",
       "2      3        AnCnoc     1          3      2          0        0      2   \n",
       "3      4        Ardbeg     4          1      4          4        0      0   \n",
       "4      5       Ardmore     2          2      2          0        0      1   \n",
       "5      6   ArranIsleOf     2          3      1          1        0      1   \n",
       "6      7  Auchentoshan     0          2      0          0        0      1   \n",
       "7      8     Auchroisk     2          3      1          0        0      2   \n",
       "8      9      Aultmore     2          2      1          0        0      1   \n",
       "9     10      Balblair     2          3      2          1        0      0   \n",
       "\n",
       "   Spicy  Winey  Nutty  Malty  Fruity  Floral     Postcode   Latitude  \\\n",
       "0      1      2      2      2       2       2   \\tPH15 2EB     286580   \n",
       "1      3      2      2      3       3       2   \\tAB38 9PJ     326340   \n",
       "2      0      0      2      2       3       2    \\tAB5 5LI     352960   \n",
       "3      2      0      1      2       1       0   \\tPA42 7EB     141560   \n",
       "4      1      1      2      3       1       1   \\tAB54 4NH     355350   \n",
       "5      1      1      0      1       1       2     KA27 8HJ     194050   \n",
       "6      1      0      2      2       3       3      G81 4SJ     247670   \n",
       "7      1      2      2      2       2       1   \\tAB55 3XS     340754   \n",
       "8      0      0      2      2       2       2   \\tAB55 3QY     340754   \n",
       "9      2      0      2      1       2       1   \\tIV19 1LB     270820   \n",
       "\n",
       "    Longitude     Region  \n",
       "0      749680  Highlands  \n",
       "1      842570   Speyside  \n",
       "2      839320  Highlands  \n",
       "3      646220      Islay  \n",
       "4      829140  Highlands  \n",
       "5      649950    Islands  \n",
       "6      672610   Lowlands  \n",
       "7      848623   Speyside  \n",
       "8      848623   Speyside  \n",
       "9      885770  Highlands  "
      ]
     },
     "execution_count": 147,
     "metadata": {},
     "output_type": "execute_result"
    }
   ],
   "source": [
    "whiskies_data.iloc[0:10]"
   ]
  },
  {
   "cell_type": "code",
   "execution_count": 148,
   "metadata": {},
   "outputs": [
    {
     "data": {
      "text/html": [
       "<div>\n",
       "<style scoped>\n",
       "    .dataframe tbody tr th:only-of-type {\n",
       "        vertical-align: middle;\n",
       "    }\n",
       "\n",
       "    .dataframe tbody tr th {\n",
       "        vertical-align: top;\n",
       "    }\n",
       "\n",
       "    .dataframe thead th {\n",
       "        text-align: right;\n",
       "    }\n",
       "</style>\n",
       "<table border=\"1\" class=\"dataframe\">\n",
       "  <thead>\n",
       "    <tr style=\"text-align: right;\">\n",
       "      <th></th>\n",
       "      <th>RowID</th>\n",
       "      <th>Distillery</th>\n",
       "      <th>Body</th>\n",
       "      <th>Sweetness</th>\n",
       "      <th>Smoky</th>\n",
       "    </tr>\n",
       "  </thead>\n",
       "  <tbody>\n",
       "    <tr>\n",
       "      <th>5</th>\n",
       "      <td>6</td>\n",
       "      <td>ArranIsleOf</td>\n",
       "      <td>2</td>\n",
       "      <td>3</td>\n",
       "      <td>1</td>\n",
       "    </tr>\n",
       "    <tr>\n",
       "      <th>6</th>\n",
       "      <td>7</td>\n",
       "      <td>Auchentoshan</td>\n",
       "      <td>0</td>\n",
       "      <td>2</td>\n",
       "      <td>0</td>\n",
       "    </tr>\n",
       "    <tr>\n",
       "      <th>7</th>\n",
       "      <td>8</td>\n",
       "      <td>Auchroisk</td>\n",
       "      <td>2</td>\n",
       "      <td>3</td>\n",
       "      <td>1</td>\n",
       "    </tr>\n",
       "    <tr>\n",
       "      <th>8</th>\n",
       "      <td>9</td>\n",
       "      <td>Aultmore</td>\n",
       "      <td>2</td>\n",
       "      <td>2</td>\n",
       "      <td>1</td>\n",
       "    </tr>\n",
       "    <tr>\n",
       "      <th>9</th>\n",
       "      <td>10</td>\n",
       "      <td>Balblair</td>\n",
       "      <td>2</td>\n",
       "      <td>3</td>\n",
       "      <td>2</td>\n",
       "    </tr>\n",
       "  </tbody>\n",
       "</table>\n",
       "</div>"
      ],
      "text/plain": [
       "   RowID    Distillery  Body  Sweetness  Smoky\n",
       "5      6   ArranIsleOf     2          3      1\n",
       "6      7  Auchentoshan     0          2      0\n",
       "7      8     Auchroisk     2          3      1\n",
       "8      9      Aultmore     2          2      1\n",
       "9     10      Balblair     2          3      2"
      ]
     },
     "execution_count": 148,
     "metadata": {},
     "output_type": "execute_result"
    }
   ],
   "source": [
    "whiskies_data.iloc[5:10,0:5]"
   ]
  },
  {
   "cell_type": "code",
   "execution_count": 149,
   "metadata": {},
   "outputs": [
    {
     "data": {
      "text/plain": [
       "Index(['RowID', 'Distillery', 'Body', 'Sweetness', 'Smoky', 'Medicinal',\n",
       "       'Tobacco', 'Honey', 'Spicy', 'Winey', 'Nutty', 'Malty', 'Fruity',\n",
       "       'Floral', 'Postcode', ' Latitude', ' Longitude', 'Region'],\n",
       "      dtype='object')"
      ]
     },
     "execution_count": 149,
     "metadata": {},
     "output_type": "execute_result"
    }
   ],
   "source": [
    "whiskies_data.columns"
   ]
  },
  {
   "cell_type": "code",
   "execution_count": 150,
   "metadata": {},
   "outputs": [
    {
     "data": {
      "text/plain": [
       "RangeIndex(start=0, stop=86, step=1)"
      ]
     },
     "execution_count": 150,
     "metadata": {},
     "output_type": "execute_result"
    }
   ],
   "source": [
    "whiskies_data.index"
   ]
  },
  {
   "cell_type": "code",
   "execution_count": 151,
   "metadata": {},
   "outputs": [],
   "source": [
    "whiskies_Flavors=whiskies_data.iloc[:,2:14]"
   ]
  },
  {
   "cell_type": "code",
   "execution_count": 73,
   "metadata": {},
   "outputs": [],
   "source": [
    "####  Exploring Correlations\n",
    "import matplotlib.pyplot as plt"
   ]
  },
  {
   "cell_type": "code",
   "execution_count": 152,
   "metadata": {},
   "outputs": [
    {
     "name": "stdout",
     "output_type": "stream",
     "text": [
      "          0         1         2         3         4             5   \\\n",
      "0   1.000000  0.708632  0.697354 -0.147311  0.731902  3.890863e-01   \n",
      "1   0.708632  1.000000  0.503074 -0.228591  0.511834  4.009832e-01   \n",
      "2   0.697354  0.503074  1.000000 -0.140435  0.557020  3.896275e-01   \n",
      "3  -0.147311 -0.228591 -0.140435  1.000000  0.231617  1.231300e-01   \n",
      "4   0.731902  0.511834  0.557020  0.231617  1.000000  2.862513e-01   \n",
      "5   0.389086  0.400983  0.389627  0.123130  0.286251  1.000000e+00   \n",
      "6   0.464312  0.460830  0.730465 -0.430674  0.286065  2.433196e-01   \n",
      "7   0.823842  0.793052  0.647298 -0.216957  0.679366  4.815434e-01   \n",
      "8   0.713395  0.510144  0.846651 -0.009969  0.691939  4.259217e-01   \n",
      "9   0.310460  0.242821  0.502091  0.436534  0.485363  4.791864e-01   \n",
      "10  0.654848  0.396526  0.244535 -0.010331  0.377426  4.414148e-01   \n",
      "11  0.580019  0.857816  0.394962 -0.025788  0.376845  6.010025e-01   \n",
      "12  0.628808  0.662652  0.518328  0.307534  0.650444  4.400862e-01   \n",
      "13  0.498571  0.757616  0.606250 -0.017417  0.349957  5.412081e-01   \n",
      "14  0.841948  0.781722  0.684286  0.039849  0.776419  3.611576e-01   \n",
      "15  0.855422  0.799096  0.697354 -0.005892  0.731902  3.890863e-01   \n",
      "16  0.508278  0.348036  0.515899 -0.145399  0.376964  6.376296e-01   \n",
      "17  0.855422  0.618169  0.500454 -0.005892  0.731902  3.890863e-01   \n",
      "18  0.503003  0.359694  0.342518  0.386580  0.385164  5.460189e-01   \n",
      "19  0.328672  0.304008  0.360039  0.244612  0.255321 -2.714626e-02   \n",
      "20  0.539969  0.399292  0.635100 -0.168054  0.350823  6.061281e-01   \n",
      "21 -0.049088 -0.307148 -0.033426  0.840269  0.263117  1.035288e-17   \n",
      "22  0.623518  0.557342  0.869382 -0.159734  0.636595  5.076300e-01   \n",
      "23 -0.245440 -0.245718 -0.033426  0.888284  0.087706  1.865010e-01   \n",
      "24  0.564135  0.408718  0.424582 -0.246861  0.424397  3.948233e-01   \n",
      "25  0.469917  0.228024  0.698750  0.342391  0.651120  5.647577e-01   \n",
      "26  0.676632  0.579353  0.266750  0.330923  0.699913  3.720806e-01   \n",
      "27  0.559690  0.538772  0.322485  0.400066  0.500000  4.498235e-01   \n",
      "28  0.731902  0.673466  0.820871  0.105281  0.653846  5.316095e-01   \n",
      "29  0.731902  0.835097  0.644970 -0.021056  0.769231  4.089304e-01   \n",
      "..       ...       ...       ...       ...       ...           ...   \n",
      "56  0.697097  0.793052  0.647298 -0.216957  0.452911  6.019293e-01   \n",
      "57 -0.204157 -0.447100 -0.330173  0.873670  0.022798  4.847862e-02   \n",
      "58 -0.176519 -0.441798 -0.168280  0.846044  0.126155  2.011958e-01   \n",
      "59  0.605408  0.557071  0.533500 -0.174170  0.254514  7.441611e-01   \n",
      "60  0.380235  0.356873  0.517838  0.185963  0.509525  3.611576e-01   \n",
      "61  0.728094  0.538405  0.585936 -0.032372  0.739140  3.457820e-01   \n",
      "62  0.713611  0.632919  0.306655 -0.098264  0.470392  4.080007e-01   \n",
      "63  0.772031  0.566352  0.561967 -0.091140  0.475651  2.528609e-01   \n",
      "64  0.560377  0.400722  0.730465 -0.054813  0.543523  6.995439e-01   \n",
      "65  0.686481  0.650109  0.138974 -0.045370  0.364646  3.524537e-01   \n",
      "66  0.077615  0.097129  0.264258  0.721230  0.485363  1.474420e-01   \n",
      "67  0.503003  0.539542  0.440380 -0.105431  0.770329 -3.031014e-17   \n",
      "68  0.085023 -0.319197  0.173688  0.540573  0.303822  0.000000e+00   \n",
      "69  0.301372  0.377141  0.498386  0.147393  0.269231  6.951817e-01   \n",
      "70  0.801666  0.780279  0.505455  0.101649  0.636595  2.820167e-01   \n",
      "71  0.765207  0.744793  0.752649 -0.041583  0.607644  4.845437e-01   \n",
      "72  0.495204  0.619705  0.626242 -0.034599  0.505590  8.511256e-01   \n",
      "73  0.827379  0.538405  0.788761 -0.113302  0.709575  4.400862e-01   \n",
      "74  0.156627  0.196005 -0.008204  0.500859  0.301372  2.975366e-01   \n",
      "75  0.797802  0.789418  0.593796 -0.263147  0.662994  1.409815e-01   \n",
      "76  0.463332  0.455573  0.631008  0.032372  0.413919  5.029557e-01   \n",
      "77 -0.021124  0.132175  0.014384  0.898820  0.301941  2.809003e-01   \n",
      "78  0.801060  0.658758  0.857180 -0.347003  0.531610  4.782609e-01   \n",
      "79  0.463332  0.269202  0.631008 -0.016186  0.413919  5.029557e-01   \n",
      "80  0.163033  0.132014  0.280806  0.417436  0.068539  6.376296e-01   \n",
      "81  0.662651  0.467396  0.828621 -0.100172  0.559690  2.975366e-01   \n",
      "82  0.543305  0.607054  0.343536  0.151838  0.693375  5.897678e-01   \n",
      "83  0.504753  0.631655  0.545891 -0.392074  0.424397  5.076300e-01   \n",
      "84  0.572186  0.372342  0.358457  0.145517  0.695182  3.043478e-01   \n",
      "85  0.267222  0.483030  0.303273 -0.101649  0.424397  5.076300e-01   \n",
      "\n",
      "              6         7         8         9     ...           76        77  \\\n",
      "0   4.643121e-01  0.823842  0.713395  0.310460    ...     0.463332 -0.021124   \n",
      "1   4.608302e-01  0.793052  0.510144  0.242821    ...     0.455573  0.132175   \n",
      "2   7.304649e-01  0.647298  0.846651  0.502091    ...     0.631008  0.014384   \n",
      "3  -4.306744e-01 -0.216957 -0.009969  0.436534    ...     0.032372  0.898820   \n",
      "4   2.860648e-01  0.679366  0.691939  0.485363    ...     0.413919  0.301941   \n",
      "5   2.433196e-01  0.481543  0.425922  0.479186    ...     0.502956  0.280900   \n",
      "6   1.000000e+00  0.421076  0.704248  0.335212    ...     0.681689 -0.252646   \n",
      "7   4.210760e-01  1.000000  0.643268  0.408248    ...     0.522233  0.037037   \n",
      "8   7.042477e-01  0.643268  1.000000  0.525226    ...     0.699866  0.107211   \n",
      "9   3.352119e-01  0.408248  0.525226  1.000000    ...     0.852803  0.612372   \n",
      "10 -2.807173e-02  0.629630  0.393108  0.340207    ...     0.348155  0.061728   \n",
      "11  2.802851e-01  0.554700  0.446026  0.169842    ...     0.362103  0.277350   \n",
      "12  3.078596e-01  0.522233  0.727860  0.586302    ...     0.636364  0.522233   \n",
      "13  5.915607e-01  0.468293  0.572351  0.401478    ...     0.635851  0.312195   \n",
      "14  3.970145e-01  0.714286  0.781111  0.262445    ...     0.373024  0.206349   \n",
      "15  5.603767e-01  0.697097  0.713395  0.543305    ...     0.661903  0.232366   \n",
      "16  6.754470e-01  0.353103  0.567850  0.339791    ...     0.605893 -0.050443   \n",
      "17  4.643121e-01  0.697097  0.591099  0.543305    ...     0.661903  0.147869   \n",
      "18 -1.060164e-17  0.251976  0.243132  0.462910    ...     0.296078  0.461957   \n",
      "19  4.367701e-01  0.075165  0.265930  0.230144    ...     0.196267  0.275604   \n",
      "20  8.154101e-01  0.387298  0.664364  0.316228    ...     0.573070 -0.086066   \n",
      "21 -3.261640e-01 -0.258199  0.083045  0.553399    ...     0.202260  0.717219   \n",
      "22  8.285888e-01  0.676753  0.853923  0.669456    ...     0.815591  0.052058   \n",
      "23 -3.261640e-01 -0.172133  0.000000  0.632456    ...     0.269680  0.889352   \n",
      "24  5.129359e-01  0.260290  0.552538  0.191273    ...     0.407795 -0.190879   \n",
      "25  5.480042e-01  0.453990  0.794990  0.864923    ...     0.816638  0.420361   \n",
      "26  4.732485e-02  0.655610  0.512104  0.544862    ...     0.538028  0.499512   \n",
      "27  1.430324e-01  0.566139  0.400596  0.554700    ...     0.561747  0.603881   \n",
      "28  5.435231e-01  0.566139  0.801193  0.485363    ...     0.591312  0.301941   \n",
      "29  4.577037e-01  0.792594  0.691939  0.277350    ...     0.413919  0.226455   \n",
      "..           ...       ...       ...       ...    ...          ...       ...   \n",
      "56  5.895063e-01  0.777778  0.643268  0.612372    ...     0.783349  0.111111   \n",
      "57 -6.782584e-01 -0.268462 -0.215866  0.205499    ...    -0.192775  0.671156   \n",
      "58 -6.098964e-01 -0.185695 -0.059726  0.284287    ...    -0.145464  0.639617   \n",
      "59  4.495861e-01  0.655610  0.481980  0.401478    ...     0.635851  0.062439   \n",
      "60  6.316139e-01  0.166667  0.643268  0.306186    ...     0.391675  0.222222   \n",
      "61  6.377093e-01  0.609272  0.895828  0.426401    ...     0.636364  0.058026   \n",
      "62  1.196899e-01  0.838167  0.433676  0.223161    ...     0.361593  0.085031   \n",
      "63  6.014168e-01  0.560112  0.765641  0.428746    ...     0.694709  0.046676   \n",
      "64  4.893617e-01  0.673722  0.785507  0.644638    ...     0.681689  0.084215   \n",
      "65  9.862273e-02  0.585540  0.219718  0.328688    ...     0.433200  0.162650   \n",
      "66  1.031421e-01  0.204124  0.328266  0.812500    ...     0.533002  0.816497   \n",
      "67  2.864732e-01  0.503953  0.364698  0.231455    ...     0.197386  0.041996   \n",
      "68  2.259731e-01 -0.149071  0.431517  0.410792    ...     0.350325  0.347833   \n",
      "69  4.004907e-01  0.339683  0.400596  0.554700    ...     0.650444  0.377426   \n",
      "70  2.761963e-01  0.780869  0.552538  0.478183    ...     0.570914  0.364405   \n",
      "71  6.779192e-01  0.745356  0.863034  0.410792    ...     0.583874  0.149071   \n",
      "72  4.073788e-01  0.620174  0.598406  0.455733    ...     0.518200  0.206725   \n",
      "73  6.596992e-01  0.754337  0.951817  0.426401    ...     0.636364 -0.019342   \n",
      "74 -2.721830e-01  0.190117  0.020383  0.388075    ...     0.033095  0.528104   \n",
      "75  6.903591e-01  0.780720  0.690541  0.328688    ...     0.586094 -0.032530   \n",
      "76  6.816892e-01  0.522233  0.699866  0.852803    ...     1.000000  0.290129   \n",
      "77 -2.526456e-01  0.037037  0.107211  0.612372    ...     0.290129  1.000000   \n",
      "78  6.995439e-01  0.722315  0.774403  0.147442    ...     0.408651 -0.200643   \n",
      "79  6.816892e-01  0.348155  0.615882  0.772853    ...     0.863636  0.116052   \n",
      "80  2.166528e-01  0.050443  0.275813  0.710472    ...     0.684922  0.554877   \n",
      "81  7.845274e-01  0.443607  0.876457  0.271653    ...     0.529523 -0.021124   \n",
      "82  2.578553e-02  0.612372  0.328266  0.437500    ...     0.293151  0.340207   \n",
      "83  5.918492e-01  0.572637  0.351615  0.286910    ...     0.407795 -0.156174   \n",
      "84 -6.082991e-02  0.722315  0.503362  0.405465    ...     0.251478  0.200643   \n",
      "85  4.340227e-01  0.572637  0.452077  0.573819    ...     0.734032  0.190879   \n",
      "\n",
      "              78        79        80        81        82            83  \\\n",
      "0   8.010601e-01  0.463332  0.163033  0.662651  0.543305  5.047526e-01   \n",
      "1   6.587581e-01  0.269202  0.132014  0.467396  0.607054  6.316546e-01   \n",
      "2   8.571804e-01  0.631008  0.280806  0.828621  0.343536  5.458910e-01   \n",
      "3  -3.470028e-01 -0.016186  0.417436 -0.100172  0.151838 -3.920737e-01   \n",
      "4   5.316095e-01  0.413919  0.068539  0.559690  0.693375  4.243967e-01   \n",
      "5   4.782609e-01  0.502956  0.637630  0.297537  0.589768  5.076300e-01   \n",
      "6   6.995439e-01  0.681689  0.216653  0.784527  0.025786  5.918492e-01   \n",
      "7   7.223151e-01  0.348155  0.050443  0.443607  0.612372  5.726371e-01   \n",
      "8   7.744031e-01  0.615882  0.275813  0.876457  0.328266  3.516153e-01   \n",
      "9   1.474420e-01  0.772853  0.710472  0.271653  0.437500  2.869095e-01   \n",
      "10  2.809003e-01  0.290129  0.218588  0.063372  0.476290  1.214685e-01   \n",
      "11  6.010025e-01  0.217262  0.377742  0.474561  0.594445  4.764629e-01   \n",
      "12  4.400862e-01  0.500000  0.500520  0.562618  0.586302  2.446773e-01   \n",
      "13  6.426846e-01  0.489116  0.566934  0.676632  0.401478  5.265725e-01   \n",
      "14  7.739091e-01  0.298419  0.108093  0.733309  0.612372  4.239002e-01   \n",
      "15  6.637355e-01  0.661903  0.393196  0.662651  0.659728  6.235179e-01   \n",
      "16  6.376296e-01  0.684922  0.541985  0.700081  0.247121  5.435768e-01   \n",
      "17  5.264109e-01  0.661903  0.393196  0.518072  0.543305  5.047526e-01   \n",
      "18  2.730095e-01  0.493464  0.629171  0.215573  0.694365  4.131969e-01   \n",
      "19  2.986089e-01  0.314027  0.193369  0.442993  0.092057  3.169459e-01   \n",
      "20  7.460038e-01  0.674200  0.429806  0.785409  0.197642  6.048584e-01   \n",
      "21 -3.730019e-01  0.269680  0.507952 -0.049088  0.158114 -3.629150e-01   \n",
      "22  7.332434e-01  0.815591  0.354507  0.742283  0.478183  7.073171e-01   \n",
      "23 -3.730019e-01  0.134840  0.586098 -0.147264  0.079057 -3.629150e-01   \n",
      "24  5.076300e-01  0.652473  0.307239  0.564135  0.478183  5.609756e-01   \n",
      "25  4.554497e-01  0.816638  0.603053  0.623360  0.401571  3.545066e-01   \n",
      "26  2.706040e-01  0.317925  0.368507  0.284898  0.544862  8.776208e-02   \n",
      "27  3.271443e-01  0.295656  0.548312  0.344425  0.346688  1.060992e-01   \n",
      "28  7.769678e-01  0.591312  0.479773  0.818009  0.589369  5.304959e-01   \n",
      "29  7.769678e-01  0.236525  0.068539  0.688849  0.589369  5.304959e-01   \n",
      "..           ...       ...       ...       ...       ...           ...   \n",
      "56  6.019293e-01  0.696311  0.453990  0.443607  0.612372  6.767530e-01   \n",
      "57 -4.605469e-01 -0.245350  0.264072 -0.331756 -0.041100 -6.289018e-01   \n",
      "58 -3.353264e-01 -0.145464  0.252911 -0.247127  0.113715 -4.930126e-01   \n",
      "59  6.426846e-01  0.489116  0.566934  0.462959  0.315447  4.388104e-01   \n",
      "60  5.417363e-01  0.522233  0.302660  0.760469  0.306186  4.685213e-01   \n",
      "61  6.286946e-01  0.568182  0.184402  0.761189  0.346451  3.262363e-01   \n",
      "62  4.869686e-01  0.076125  0.071692  0.242489  0.357057  1.536648e-01   \n",
      "63  5.562939e-01  0.585018  0.360237  0.665544  0.171499  1.968183e-01   \n",
      "64  6.082991e-01  0.681689  0.369584  0.496334  0.567282  5.129359e-01   \n",
      "65  2.467176e-01  0.356753  0.369207  0.092768  0.507972  3.200610e-01   \n",
      "66 -7.372098e-02  0.373101  0.432461  0.155230  0.250000 -6.370671e-17   \n",
      "67  4.095142e-01  0.296078 -0.171592  0.359288  0.694365  6.493095e-01   \n",
      "68 -1.793172e-17  0.350325  0.338384  0.425115 -0.273861 -3.492151e-01   \n",
      "69  4.498235e-01  0.561747  0.753929  0.473584  0.346688  4.243967e-01   \n",
      "70  5.076300e-01  0.326236  0.307239  0.445370  0.478183  2.682927e-01   \n",
      "71  8.075729e-01  0.467099  0.203030  0.765207  0.410792  4.889012e-01   \n",
      "72  6.719412e-01  0.518200  0.431714  0.495204  0.759555  7.167259e-01   \n",
      "73  8.173030e-01  0.545455  0.184402  0.827379  0.319801  3.534227e-01   \n",
      "74 -1.144372e-01  0.132381  0.182213 -0.228916  0.620920  2.078393e-01   \n",
      "75  6.696620e-01  0.433200  0.014768  0.649374  0.328688  5.029530e-01   \n",
      "76  4.086515e-01  0.863636  0.684922  0.529523  0.293151  4.077954e-01   \n",
      "77 -2.006431e-01  0.116052  0.554877 -0.021124  0.340207 -1.561738e-01   \n",
      "78  1.000000e+00  0.408651  0.091090  0.846835  0.368605  6.204367e-01   \n",
      "79  4.086515e-01  1.000000  0.684922  0.529523  0.373101  5.709136e-01   \n",
      "80  9.108994e-02  0.684922  1.000000  0.239754  0.247121  1.654364e-01   \n",
      "81  8.468349e-01  0.529523  0.239754  1.000000  0.155230  3.859873e-01   \n",
      "82  3.686049e-01  0.373101  0.247121  0.155230  1.000000  6.694555e-01   \n",
      "83  6.204367e-01  0.570914  0.165436  0.385987  0.669456  1.000000e+00   \n",
      "84  3.043478e-01  0.157174 -0.091090  0.114437  0.626628  1.692100e-01   \n",
      "85  2.820167e-01  0.489355  0.354507  0.267222  0.382546  4.146341e-01   \n",
      "\n",
      "              84        85  \n",
      "0   5.721858e-01  0.267222  \n",
      "1   3.723415e-01  0.483030  \n",
      "2   3.584573e-01  0.303273  \n",
      "3   1.455173e-01 -0.101649  \n",
      "4   6.951817e-01  0.424397  \n",
      "5   3.043478e-01  0.507630  \n",
      "6  -6.082991e-02  0.434023  \n",
      "7   7.223151e-01  0.572637  \n",
      "8   5.033620e-01  0.452077  \n",
      "9   4.054654e-01  0.573819  \n",
      "10  7.624437e-01  0.190879  \n",
      "11  2.003342e-01  0.389833  \n",
      "12  5.029557e-01  0.407795  \n",
      "13 -3.382550e-02  0.526572  \n",
      "14  5.675333e-01  0.245416  \n",
      "15  4.348612e-01  0.385987  \n",
      "16 -9.108994e-02  0.543577  \n",
      "17  4.348612e-01  0.504753  \n",
      "18  2.730095e-01 -0.059028  \n",
      "19 -1.357313e-01 -0.246514  \n",
      "20 -4.662524e-02  0.362915  \n",
      "21  1.865010e-01 -0.120972  \n",
      "22  3.948233e-01  0.609756  \n",
      "23  9.325048e-02  0.120972  \n",
      "24  1.692100e-01  0.170732  \n",
      "25  4.190137e-01  0.543577  \n",
      "26  6.426846e-01  0.526572  \n",
      "27  2.862513e-01  0.530496  \n",
      "28  3.271443e-01  0.318298  \n",
      "29  4.498235e-01  0.530496  \n",
      "..           ...       ...  \n",
      "56  4.815434e-01  0.572637  \n",
      "57  1.696752e-01 -0.251561  \n",
      "58  3.353264e-01 -0.203005  \n",
      "59  1.691275e-01  0.614335  \n",
      "60  0.000000e+00  0.156174  \n",
      "61  5.029557e-01  0.489355  \n",
      "62  6.185817e-01  0.495142  \n",
      "63  3.540052e-01  0.328031  \n",
      "64  6.691290e-01  0.512936  \n",
      "65  3.876991e-01  0.320061  \n",
      "66  2.948839e-01  0.382546  \n",
      "67  4.095142e-01  0.295141  \n",
      "68 -1.793172e-17  0.069843  \n",
      "69 -8.178608e-02  0.636595  \n",
      "70  5.076300e-01  0.463415  \n",
      "71  4.845437e-01  0.349215  \n",
      "72  4.031647e-01  0.561758  \n",
      "73  5.658252e-01  0.462168  \n",
      "74  5.264109e-01 -0.148457  \n",
      "75  3.876991e-01  0.502953  \n",
      "76  2.514778e-01  0.734032  \n",
      "77  2.006431e-01  0.190879  \n",
      "78  3.043478e-01  0.282017  \n",
      "79  1.571737e-01  0.489355  \n",
      "80 -9.108994e-02  0.354507  \n",
      "81  1.144372e-01  0.267222  \n",
      "82  6.266283e-01  0.382546  \n",
      "83  1.692100e-01  0.414634  \n",
      "84  1.000000e+00  0.282017  \n",
      "85  2.820167e-01  1.000000  \n",
      "\n",
      "[86 rows x 86 columns]\n"
     ]
    }
   ],
   "source": [
    "corr_whiskies = pd.DataFrame.corr(whiskies_Flavors.transpose())\n",
    "val = pd.DataFrame.corr(whiskies_Flavors)\n",
    "print(corr_whiskies )"
   ]
  },
  {
   "cell_type": "code",
   "execution_count": 111,
   "metadata": {},
   "outputs": [
    {
     "name": "stdout",
     "output_type": "stream",
     "text": [
      "               RowID      Body  Sweetness     Smoky  Medicinal   Tobacco  \\\n",
      "RowID       1.000000 -0.102798   0.040397 -0.115659   0.029268  0.115436   \n",
      "Body       -0.102798  1.000000  -0.136518  0.524032   0.354050  0.168718   \n",
      "Sweetness   0.040397 -0.136518   1.000000 -0.405897  -0.392017 -0.147871   \n",
      "Smoky      -0.115659  0.524032  -0.405897  1.000000   0.686071  0.365501   \n",
      "Medicinal   0.029268  0.354050  -0.392017  0.686071   1.000000  0.425106   \n",
      "Tobacco     0.115436  0.168718  -0.147871  0.365501   0.425106  1.000000   \n",
      "Honey      -0.147171  0.082031   0.132558 -0.195318  -0.396629 -0.275490   \n",
      "Spicy       0.005704  0.188500  -0.054200  0.231745   0.044903  0.054068   \n",
      "Winey       0.001010  0.408576   0.115727 -0.028190  -0.202651  0.009097   \n",
      "Nutty      -0.052750  0.126323  -0.032493 -0.023132  -0.113671 -0.117717   \n",
      "Malty      -0.136682 -0.116859  -0.001516 -0.192875  -0.258959 -0.059347   \n",
      "Fruity     -0.126638 -0.013205   0.019820 -0.312970  -0.330975 -0.235145   \n",
      "Floral     -0.135006 -0.461203   0.144987 -0.431663  -0.511323 -0.212375   \n",
      " Latitude   0.042865 -0.166857   0.430832 -0.435433  -0.670450 -0.094500   \n",
      " Longitude  0.152611  0.054479   0.306596 -0.174985  -0.335721 -0.071675   \n",
      "\n",
      "               Honey     Spicy     Winey     Nutty     Malty    Fruity  \\\n",
      "RowID      -0.147171  0.005704  0.001010 -0.052750 -0.136682 -0.126638   \n",
      "Body        0.082031  0.188500  0.408576  0.126323 -0.116859 -0.013205   \n",
      "Sweetness   0.132558 -0.054200  0.115727 -0.032493 -0.001516  0.019820   \n",
      "Smoky      -0.195318  0.231745 -0.028190 -0.023132 -0.192875 -0.312970   \n",
      "Medicinal  -0.396629  0.044903 -0.202651 -0.113671 -0.258959 -0.330975   \n",
      "Tobacco    -0.275490  0.054068  0.009097 -0.117717 -0.059347 -0.235145   \n",
      "Honey       1.000000  0.139563  0.362021  0.188492  0.310184  0.108822   \n",
      "Spicy       0.139563  1.000000  0.092704 -0.042856  0.036303  0.144714   \n",
      "Winey       0.362021  0.092704  1.000000  0.198467  0.112368  0.090694   \n",
      "Nutty       0.188492 -0.042856  0.198467  1.000000  0.066157  0.071765   \n",
      "Malty       0.310184  0.036303  0.112368  0.066157  1.000000  0.207288   \n",
      "Fruity      0.108822  0.144714  0.090694  0.071765  0.207288  1.000000   \n",
      "Floral      0.183029  0.034663 -0.126932  0.018302  0.106309  0.262336   \n",
      " Latitude   0.222169 -0.016999  0.227778  0.054863  0.239853  0.245933   \n",
      " Longitude  0.158981  0.049338  0.080075  0.067333  0.046573  0.234954   \n",
      "\n",
      "              Floral   Latitude   Longitude  \n",
      "RowID      -0.135006   0.042865    0.152611  \n",
      "Body       -0.461203  -0.166857    0.054479  \n",
      "Sweetness   0.144987   0.430832    0.306596  \n",
      "Smoky      -0.431663  -0.435433   -0.174985  \n",
      "Medicinal  -0.511323  -0.670450   -0.335721  \n",
      "Tobacco    -0.212375  -0.094500   -0.071675  \n",
      "Honey       0.183029   0.222169    0.158981  \n",
      "Spicy       0.034663  -0.016999    0.049338  \n",
      "Winey      -0.126932   0.227778    0.080075  \n",
      "Nutty       0.018302   0.054863    0.067333  \n",
      "Malty       0.106309   0.239853    0.046573  \n",
      "Fruity      0.262336   0.245933    0.234954  \n",
      "Floral      1.000000   0.234796    0.097541  \n",
      " Latitude   0.234796   1.000000    0.712212  \n",
      " Longitude  0.097541   0.712212    1.000000  \n"
     ]
    },
    {
     "data": {
      "text/plain": [
       "(15, 15)"
      ]
     },
     "execution_count": 111,
     "metadata": {},
     "output_type": "execute_result"
    }
   ],
   "source": [
    "print(val)\n",
    "val.shape"
   ]
  },
  {
   "cell_type": "code",
   "execution_count": 155,
   "metadata": {},
   "outputs": [
    {
     "data": {
      "image/png": "[encoded data removed]",
      "text/plain": [
       "<Figure size 720x720 with 2 Axes>"
      ]
     },
     "metadata": {
      "needs_background": "light"
     },
     "output_type": "display_data"
    },
    {
     "data": {
      "image/png": "[encoded data removed]",
      "text/plain": [
       "<Figure size 720x720 with 2 Axes>"
      ]
     },
     "metadata": {
      "needs_background": "light"
     },
     "output_type": "display_data"
    }
   ],
   "source": [
    "plt.figure(figsize=(10,10))\n",
    "plt.pcolor(val)\n",
    "plt.colorbar()\n",
    "plt.savefig(\"valcorr.pdf\")\n",
    "\n",
    "plt.figure(figsize=(10,10))\n",
    "plt.pcolor(corr_whiskies)\n",
    "plt.axis(\"tight\")\n",
    "plt.colorbar()\n",
    "plt.savefig(\"corr_whiskies.pdf\")"
   ]
  },
  {
   "cell_type": "code",
   "execution_count": 156,
   "metadata": {},
   "outputs": [],
   "source": [
    "###### clustring \n",
    "from sklearn.cluster.bicluster import SpectralCoclustering"
   ]
  },
  {
   "cell_type": "code",
   "execution_count": 158,
   "metadata": {},
   "outputs": [
    {
     "data": {
      "text/plain": [
       "SpectralCoclustering(init='k-means++', mini_batch=False, n_clusters=6,\n",
       "           n_init=10, n_jobs=None, n_svd_vecs=None, random_state=0,\n",
       "           svd_method='randomized')"
      ]
     },
     "execution_count": 158,
     "metadata": {},
     "output_type": "execute_result"
    }
   ],
   "source": [
    "model = SpectralCoclustering(n_clusters=6,random_state=0)\n",
    "model.fit(corr_whiskies)"
   ]
  },
  {
   "cell_type": "code",
   "execution_count": 159,
   "metadata": {},
   "outputs": [
    {
     "data": {
      "text/plain": [
       "array([[False, False, False, False, False,  True, False, False, False,\n",
       "        False, False,  True, False,  True, False, False,  True, False,\n",
       "         True, False, False, False, False, False, False, False, False,\n",
       "        False, False, False, False, False,  True,  True,  True, False,\n",
       "        False, False,  True, False,  True, False, False, False, False,\n",
       "         True, False,  True,  True, False, False, False, False, False,\n",
       "         True, False, False, False, False,  True, False, False, False,\n",
       "        False, False, False, False, False, False,  True, False, False,\n",
       "         True, False, False, False, False, False, False, False,  True,\n",
       "        False, False,  True, False,  True],\n",
       "       [False, False, False, False, False, False, False, False, False,\n",
       "        False, False, False, False, False, False, False, False, False,\n",
       "        False,  True, False, False, False, False, False, False, False,\n",
       "        False, False, False, False, False, False, False, False, False,\n",
       "        False, False, False,  True, False, False, False, False, False,\n",
       "        False, False, False, False, False, False, False, False, False,\n",
       "        False,  True, False, False, False, False, False, False, False,\n",
       "        False, False, False,  True, False,  True, False, False, False,\n",
       "        False, False, False, False, False, False, False, False, False,\n",
       "        False, False, False, False, False],\n",
       "       [False,  True, False, False, False, False, False,  True, False,\n",
       "        False,  True, False, False, False, False, False, False, False,\n",
       "        False, False, False, False, False, False, False, False,  True,\n",
       "         True, False,  True, False, False, False, False, False, False,\n",
       "         True, False, False, False, False, False,  True,  True,  True,\n",
       "        False, False, False, False, False, False,  True,  True,  True,\n",
       "        False, False, False, False, False, False, False, False,  True,\n",
       "        False, False,  True, False, False, False, False,  True, False,\n",
       "        False, False,  True, False, False, False, False, False, False,\n",
       "        False,  True, False,  True, False],\n",
       "       [False, False,  True, False, False, False,  True, False, False,\n",
       "         True, False, False, False, False, False, False, False, False,\n",
       "        False, False,  True, False,  True, False,  True,  True, False,\n",
       "        False,  True, False,  True, False, False, False, False, False,\n",
       "        False,  True, False, False, False,  True, False, False, False,\n",
       "        False, False, False, False,  True,  True, False, False, False,\n",
       "        False, False, False, False, False, False,  True, False, False,\n",
       "        False, False, False, False, False, False, False, False, False,\n",
       "        False, False, False, False,  True, False, False,  True, False,\n",
       "         True, False, False, False, False],\n",
       "       [False, False, False,  True, False, False, False, False, False,\n",
       "        False, False, False, False, False, False, False, False, False,\n",
       "        False, False, False,  True, False,  True, False, False, False,\n",
       "        False, False, False, False, False, False, False, False, False,\n",
       "        False, False, False, False, False, False, False, False, False,\n",
       "        False, False, False, False, False, False, False, False, False,\n",
       "        False, False, False,  True,  True, False, False, False, False,\n",
       "        False, False, False, False, False, False, False, False, False,\n",
       "        False, False, False, False, False,  True, False, False, False,\n",
       "        False, False, False, False, False],\n",
       "       [ True, False, False, False,  True, False, False, False,  True,\n",
       "        False, False, False,  True, False,  True,  True, False,  True,\n",
       "        False, False, False, False, False, False, False, False, False,\n",
       "        False, False, False, False,  True, False, False, False,  True,\n",
       "        False, False, False, False, False, False, False, False, False,\n",
       "        False,  True, False, False, False, False, False, False, False,\n",
       "        False, False,  True, False, False, False, False,  True, False,\n",
       "         True,  True, False, False,  True, False, False, False,  True,\n",
       "        False,  True, False,  True, False, False,  True, False, False,\n",
       "        False, False, False, False, False]])"
      ]
     },
     "execution_count": 159,
     "metadata": {},
     "output_type": "execute_result"
    }
   ],
   "source": [
    "model.rows_"
   ]
  },
  {
   "cell_type": "code",
   "execution_count": 161,
   "metadata": {},
   "outputs": [
    {
     "data": {
      "text/plain": [
       "array([20,  5, 19, 17,  6, 19])"
      ]
     },
     "execution_count": 161,
     "metadata": {},
     "output_type": "execute_result"
    }
   ],
   "source": [
    "np.sum(model.rows_,axis=1)"
   ]
  },
  {
   "cell_type": "code",
   "execution_count": 162,
   "metadata": {},
   "outputs": [
    {
     "data": {
      "text/plain": [
       "array([1, 1, 1, 1, 1, 1, 1, 1, 1, 1, 1, 1, 1, 1, 1, 1, 1, 1, 1, 1, 1, 1,\n",
       "       1, 1, 1, 1, 1, 1, 1, 1, 1, 1, 1, 1, 1, 1, 1, 1, 1, 1, 1, 1, 1, 1,\n",
       "       1, 1, 1, 1, 1, 1, 1, 1, 1, 1, 1, 1, 1, 1, 1, 1, 1, 1, 1, 1, 1, 1,\n",
       "       1, 1, 1, 1, 1, 1, 1, 1, 1, 1, 1, 1, 1, 1, 1, 1, 1, 1, 1, 1])"
      ]
     },
     "execution_count": 162,
     "metadata": {},
     "output_type": "execute_result"
    }
   ],
   "source": [
    "np.sum(model.rows_,axis=0)"
   ]
  },
  {
   "cell_type": "code",
   "execution_count": 171,
   "metadata": {},
   "outputs": [
    {
     "data": {
      "text/plain": [
       "array([5, 2, 3, 4, 5, 0, 3, 2, 5, 3, 2, 0, 5, 0, 5, 5, 0, 5, 0, 1, 3, 4,\n",
       "       3, 4, 3, 3, 2, 2, 3, 2, 3, 5, 0, 0, 0, 5, 2, 3, 0, 1, 0, 3, 2, 2,\n",
       "       2, 0, 5, 0, 0, 3, 3, 2, 2, 2, 0, 1, 5, 4, 4, 0, 3, 5, 2, 5, 5, 2,\n",
       "       1, 5, 1, 0, 2, 5, 0, 5, 2, 5, 3, 4, 5, 3, 0, 3, 2, 0, 2, 0],\n",
       "      dtype=int32)"
      ]
     },
     "execution_count": 171,
     "metadata": {},
     "output_type": "execute_result"
    }
   ],
   "source": [
    "model.row_labels_"
   ]
  },
  {
   "cell_type": "code",
   "execution_count": 176,
   "metadata": {},
   "outputs": [],
   "source": [
    "#### comparing corelations mtrix\n",
    "whiskies_data[\"Regions\"] =pd.Series(model.row_labels_,index=whiskies_data.index)\n",
    "whiskies_data =whiskies_data.loc[np.argsort(model.row_labels_)]\n",
    "whiskies_data = whiskies_data.reset_index(drop=True)"
   ]
  },
  {
   "cell_type": "code",
   "execution_count": 178,
   "metadata": {},
   "outputs": [],
   "source": [
    "corelations = pd.DataFrame.corr(whiskies_data.iloc[:,2:14].transpose())"
   ]
  },
  {
   "cell_type": "code",
   "execution_count": 179,
   "metadata": {},
   "outputs": [],
   "source": [
    "corelations = np.array(corelations)"
   ]
  },
  {
   "cell_type": "code",
   "execution_count": 180,
   "metadata": {},
   "outputs": [
    {
     "data": {
      "image/png": "[encoded data removed]",
      "text/plain": [
       "<Figure size 1008x504 with 2 Axes>"
      ]
     },
     "metadata": {
      "needs_background": "light"
     },
     "output_type": "display_data"
    }
   ],
   "source": [
    "plt.figure(figsize=(14,7))\n",
    "plt.subplot(121)\n",
    "plt.pcolor(corr_whiskies)\n",
    "plt.title(\"original\")\n",
    "plt.axis(\"tight\")\n",
    "plt.subplot(122)\n",
    "plt.pcolor(corelations)\n",
    "plt.title(\"rearranged\")\n",
    "plt.axis(\"tight\")\n",
    "plt.savefig(\"corelations.pdf\")"
   ]
  },
  {
   "cell_type": "code",
   "execution_count": null,
   "metadata": {},
   "outputs": [],
   "source": []
  }
 ],
 "metadata": {
  "kernelspec": {
   "display_name": "Python 3",
   "language": "python",
   "name": "python3"
  },
  "language_info": {
   "codemirror_mode": {
    "name": "ipython",
    "version": 3
   },
   "file_extension": ".py",
   "mimetype": "text/x-python",
   "name": "python",
   "nbconvert_exporter": "python",
   "pygments_lexer": "ipython3",
   "version": "3.6.7"
  }
 },
 "nbformat": 4,
 "nbformat_minor": 2
}
