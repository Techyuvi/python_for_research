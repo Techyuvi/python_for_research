{
 "cells": [
  {
   "cell_type": "code",
   "execution_count": 189,
   "metadata": {},
   "outputs": [],
   "source": [
    "###### generating regration\n",
    "import numpy as np\n",
    "import matplotlib.pyplot as plt\n",
    "import scipy.stats as ss"
   ]
  },
  {
   "cell_type": "code",
   "execution_count": 190,
   "metadata": {},
   "outputs": [
    {
     "data": {
      "image/png": "[encoded data removed]",
      "text/plain": [
       "<Figure size 432x288 with 1 Axes>"
      ]
     },
     "metadata": {
      "needs_background": "light"
     },
     "output_type": "display_data"
    }
   ],
   "source": [
    "n=100 #number of data point\n",
    "b1 = 5\n",
    "b2 = 2\n",
    "np.random.seed(1)\n",
    "x = 10*ss.uniform.rvs(size=n)\n",
    "y = b1+b2*x + ss.norm.rvs(loc=0,scale=1,size=n)\n",
    "plt.plot(x,y,\"o\",ms=5)\n",
    "xx = np.array([0,10])\n",
    "plt.plot(xx,b1+b2*xx)\n",
    "plt.xlabel(\"x\")\n",
    "plt.ylabel(\"y\")\n",
    "plt.savefig(\"Example_Regration.pdf\")"
   ]
  },
  {
   "cell_type": "code",
   "execution_count": 191,
   "metadata": {},
   "outputs": [],
   "source": [
    "n = 100\n",
    "beta_0 = 5\n",
    "beta_1 = 2\n",
    "np.random.seed(1)\n",
    "x = 10 * ss.uniform.rvs(size=n)\n",
    "y = beta_0 + beta_1 * x + ss.norm.rvs(loc=0, scale = 1, size = n) "
   ]
  },
  {
   "cell_type": "code",
   "execution_count": 192,
   "metadata": {},
   "outputs": [
    {
     "data": {
      "text/plain": [
       "4.8587792760014565"
      ]
     },
     "execution_count": 192,
     "metadata": {},
     "output_type": "execute_result"
    }
   ],
   "source": [
    "np.mean(x)"
   ]
  },
  {
   "cell_type": "code",
   "execution_count": 193,
   "metadata": {},
   "outputs": [
    {
     "data": {
      "text/plain": [
       "14.80142786070299"
      ]
     },
     "execution_count": 193,
     "metadata": {},
     "output_type": "execute_result"
    }
   ],
   "source": [
    "np.mean(y)"
   ]
  },
  {
   "cell_type": "code",
   "execution_count": 194,
   "metadata": {},
   "outputs": [],
   "source": [
    "#def compute_rss(y_estimate, y):\n",
    "  #return sum(np.power(y-y_estimate, 2))\n",
    "\n",
    "#def estimate_y(x, b_0, b_1):\n",
    "  #return b_0 + b_1 * x\n",
    "\n",
    "#rss = compute_rss(estimate_y(x, beta_0, beta_1), y) "
   ]
  },
  {
   "cell_type": "code",
   "execution_count": null,
   "metadata": {},
   "outputs": [],
   "source": []
  },
  {
   "cell_type": "code",
   "execution_count": 195,
   "metadata": {},
   "outputs": [],
   "source": [
    "#least squared estimation in  regression\n",
    "rss = []\n",
    "slopes = np.arange(-10, 15, 0.01)\n",
    "#slopes = np.arange(-10, 15, 0.001)\n",
    "for slope in slopes:\n",
    "    rss.append(np.sum((y-b1-slope*x)**2))"
   ]
  },
  {
   "cell_type": "code",
   "execution_count": 196,
   "metadata": {},
   "outputs": [
    {
     "data": {
      "text/plain": [
       "[465163.6265980302,\n",
       " 464389.08137639664,\n",
       " 463615.18165403913,\n",
       " 462841.9274309581,\n",
       " 462069.3187071535,\n",
       " 461297.35548262496,\n",
       " 460526.03775737283,\n",
       " 459755.36553139694,\n",
       " 458985.33880469744,\n",
       " 458215.9575772741,\n",
       " 457447.22184912727,\n",
       " 456679.1316202565,\n",
       " 455911.68689066224,\n",
       " 455144.8876603442,\n",
       " 454378.73392930237]"
      ]
     },
     "execution_count": 196,
     "metadata": {},
     "output_type": "execute_result"
    }
   ],
   "source": [
    "rss[0:15]"
   ]
  },
  {
   "cell_type": "code",
   "execution_count": 197,
   "metadata": {},
   "outputs": [],
   "source": [
    "ind_min=np.argmin(rss)"
   ]
  },
  {
   "cell_type": "code",
   "execution_count": 198,
   "metadata": {},
   "outputs": [
    {
     "data": {
      "text/plain": [
       "1200"
      ]
     },
     "execution_count": 198,
     "metadata": {},
     "output_type": "execute_result"
    }
   ],
   "source": [
    "ind_min"
   ]
  },
  {
   "cell_type": "code",
   "execution_count": 199,
   "metadata": {},
   "outputs": [
    {
     "name": "stdout",
     "output_type": "stream",
     "text": [
      "estimated value for rss 1.9999999999997442\n"
     ]
    }
   ],
   "source": [
    "print(\"estimated value for rss\",slopes[rss_min])"
   ]
  },
  {
   "cell_type": "code",
   "execution_count": 200,
   "metadata": {},
   "outputs": [
    {
     "data": {
      "image/png": "[encoded data removed]",
      "text/plain": [
       "<Figure size 432x288 with 1 Axes>"
      ]
     },
     "metadata": {
      "needs_background": "light"
     },
     "output_type": "display_data"
    }
   ],
   "source": [
    "plt.figure()\n",
    "plt.plot(slopes,rss)\n",
    "plt.xlabel(\"slopes\")\n",
    "plt.ylabel(\"rss\")\n",
    "plt.savefig(\"LeastsqrEstimation.pdf\")"
   ]
  },
  {
   "cell_type": "code",
   "execution_count": 201,
   "metadata": {},
   "outputs": [
    {
     "name": "stdout",
     "output_type": "stream",
     "text": [
      "                            OLS Regression Results                            \n",
      "==============================================================================\n",
      "Dep. Variable:                      y   R-squared:                       0.968\n",
      "Model:                            OLS   Adj. R-squared:                  0.967\n",
      "Method:                 Least Squares   F-statistic:                     2974.\n",
      "Date:                Fri, 23 Nov 2018   Prob (F-statistic):           1.14e-75\n",
      "Time:                        14:25:42   Log-Likelihood:                -246.89\n",
      "No. Observations:                 100   AIC:                             495.8\n",
      "Df Residuals:                      99   BIC:                             498.4\n",
      "Df Model:                           1                                         \n",
      "Covariance Type:            nonrobust                                         \n",
      "==============================================================================\n",
      "                 coef    std err          t      P>|t|      [0.025      0.975]\n",
      "------------------------------------------------------------------------------\n",
      "x1             2.7569      0.051     54.538      0.000       2.657       2.857\n",
      "==============================================================================\n",
      "Omnibus:                        7.901   Durbin-Watson:                   1.579\n",
      "Prob(Omnibus):                  0.019   Jarque-Bera (JB):                3.386\n",
      "Skew:                           0.139   Prob(JB):                        0.184\n",
      "Kurtosis:                       2.143   Cond. No.                         1.00\n",
      "==============================================================================\n",
      "\n",
      "Warnings:\n",
      "[1] Standard Errors assume that the covariance matrix of the errors is correctly specified.\n"
     ]
    }
   ],
   "source": [
    "import statsmodels.api as sm\n",
    "mod = sm.OLS(y,x)\n",
    "est = mod.fit()\n",
    "print(est.summary())"
   ]
  },
  {
   "cell_type": "code",
   "execution_count": 202,
   "metadata": {},
   "outputs": [
    {
     "name": "stdout",
     "output_type": "stream",
     "text": [
      "                            OLS Regression Results                            \n",
      "==============================================================================\n",
      "Dep. Variable:                      y   R-squared:                       0.977\n",
      "Model:                            OLS   Adj. R-squared:                  0.977\n",
      "Method:                 Least Squares   F-statistic:                     4115.\n",
      "Date:                Fri, 23 Nov 2018   Prob (F-statistic):           7.47e-82\n",
      "Time:                        14:25:45   Log-Likelihood:                -130.72\n",
      "No. Observations:                 100   AIC:                             265.4\n",
      "Df Residuals:                      98   BIC:                             270.7\n",
      "Df Model:                           1                                         \n",
      "Covariance Type:            nonrobust                                         \n",
      "==============================================================================\n",
      "                 coef    std err          t      P>|t|      [0.025      0.975]\n",
      "------------------------------------------------------------------------------\n",
      "const          5.2370      0.174     30.041      0.000       4.891       5.583\n",
      "x1             1.9685      0.031     64.151      0.000       1.908       2.029\n",
      "==============================================================================\n",
      "Omnibus:                        2.308   Durbin-Watson:                   2.206\n",
      "Prob(Omnibus):                  0.315   Jarque-Bera (JB):                1.753\n",
      "Skew:                          -0.189   Prob(JB):                        0.416\n",
      "Kurtosis:                       3.528   Cond. No.                         11.2\n",
      "==============================================================================\n",
      "\n",
      "Warnings:\n",
      "[1] Standard Errors assume that the covariance matrix of the errors is correctly specified.\n"
     ]
    }
   ],
   "source": [
    "X=sm.add_constant(x)\n",
    "mod = sm.OLS(y,X)\n",
    "est = mod.fit()\n",
    "print(est.summary())"
   ]
  },
  {
   "cell_type": "code",
   "execution_count": 203,
   "metadata": {},
   "outputs": [
    {
     "data": {
      "image/png": "[encoded data removed]",
      "text/plain": [
       "<Figure size 432x288 with 1 Axes>"
      ]
     },
     "metadata": {
      "needs_background": "light"
     },
     "output_type": "display_data"
    }
   ],
   "source": [
    "from mpl_toolkits.mplot3d import Axes3D\n",
    "n=500\n",
    "b1=5\n",
    "b2=2\n",
    "b3=-1\n",
    "np.random.seed(1)\n",
    "x1 = 10*ss.uniform.rvs(size=n)\n",
    "x2 = 10*ss.uniform.rvs(size=n)\n",
    "y = b1+b2*x1+b3*x2 + ss.norm.rvs(loc=0,scale=1,size=n)\n",
    "X = np.stack([x1,x2],axis=1)\n",
    "fig=plt.figure()\n",
    "ax=fig.add_subplot(111,projection=\"3d\")\n",
    "ax.scatter(X[:,0],X[:,1],y,c=y)\n",
    "ax.set_xlabel(\"$x1$\")\n",
    "ax.set_ylabel(\"$x2$\")\n",
    "ax.set_zlabel(\"$z$\")\n",
    "plt.savefig(\"LinearRegration3Dplot.pdf\")"
   ]
  },
  {
   "cell_type": "code",
   "execution_count": 204,
   "metadata": {},
   "outputs": [
    {
     "data": {
      "text/plain": [
       "LinearRegression(copy_X=True, fit_intercept=True, n_jobs=None,\n",
       "         normalize=False)"
      ]
     },
     "execution_count": 204,
     "metadata": {},
     "output_type": "execute_result"
    }
   ],
   "source": [
    "from sklearn.linear_model import LinearRegression\n",
    "lm = LinearRegression(fit_intercept=True)\n",
    "lm.fit(X,y)"
   ]
  },
  {
   "cell_type": "code",
   "execution_count": 205,
   "metadata": {},
   "outputs": [
    {
     "data": {
      "text/plain": [
       "5.1540777637772495"
      ]
     },
     "execution_count": 205,
     "metadata": {},
     "output_type": "execute_result"
    }
   ],
   "source": [
    "lm.intercept_"
   ]
  },
  {
   "cell_type": "code",
   "execution_count": 206,
   "metadata": {},
   "outputs": [
    {
     "name": "stdout",
     "output_type": "stream",
     "text": [
      "1.9999378989891408\n",
      "-1.0202644869933357\n"
     ]
    }
   ],
   "source": [
    "print(lm.coef_[0])\n",
    "print(lm.coef_[1])"
   ]
  },
  {
   "cell_type": "code",
   "execution_count": 209,
   "metadata": {},
   "outputs": [
    {
     "data": {
      "text/plain": [
       "array([5.07289561])"
      ]
     },
     "execution_count": 209,
     "metadata": {},
     "output_type": "execute_result"
    }
   ],
   "source": [
    "X_0 = np.array([2,4])\n",
    "lm.predict(X_0.reshape(1,-1))"
   ]
  },
  {
   "cell_type": "code",
   "execution_count": 210,
   "metadata": {},
   "outputs": [
    {
     "data": {
      "text/plain": [
       "0.9798997316600129"
      ]
     },
     "execution_count": 210,
     "metadata": {},
     "output_type": "execute_result"
    }
   ],
   "source": [
    "lm.score(X,y)"
   ]
  },
  {
   "cell_type": "code",
   "execution_count": 211,
   "metadata": {},
   "outputs": [
    {
     "name": "stderr",
     "output_type": "stream",
     "text": [
      "/home/yuvraj/local-py3/lib/python3.7/site-packages/sklearn/model_selection/_split.py:2069: FutureWarning: From version 0.21, test_size will always complement train_size unless both are specified.\n",
      "  FutureWarning)\n"
     ]
    }
   ],
   "source": [
    "from sklearn.model_selection import train_test_split\n",
    "X_train,X_test,y_train,y_test = train_test_split(X,y,train_size=0.5,random_state=1)"
   ]
  },
  {
   "cell_type": "code",
   "execution_count": 212,
   "metadata": {},
   "outputs": [
    {
     "data": {
      "text/plain": [
       "LinearRegression(copy_X=True, fit_intercept=True, n_jobs=None,\n",
       "         normalize=False)"
      ]
     },
     "execution_count": 212,
     "metadata": {},
     "output_type": "execute_result"
    }
   ],
   "source": [
    "lm =LinearRegression(fit_intercept=True)\n",
    "lm.fit(X_train,y_train)"
   ]
  },
  {
   "cell_type": "code",
   "execution_count": 213,
   "metadata": {},
   "outputs": [
    {
     "data": {
      "text/plain": [
       "0.9794930834681773"
      ]
     },
     "execution_count": 213,
     "metadata": {},
     "output_type": "execute_result"
    }
   ],
   "source": [
    "lm.score(X_test,y_test)"
   ]
  },
  {
   "cell_type": "code",
   "execution_count": null,
   "metadata": {},
   "outputs": [],
   "source": []
  }
 ],
 "metadata": {
  "kernelspec": {
   "display_name": "Python 3",
   "language": "python",
   "name": "python3"
  },
  "language_info": {
   "codemirror_mode": {
    "name": "ipython",
    "version": 3
   },
   "file_extension": ".py",
   "mimetype": "text/x-python",
   "name": "python",
   "nbconvert_exporter": "python",
   "pygments_lexer": "ipython3",
   "version": "3.7.0"
  }
 },
 "nbformat": 4,
 "nbformat_minor": 2
}
